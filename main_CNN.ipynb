{
 "cells": [
  {
   "cell_type": "markdown",
   "metadata": {},
   "source": [
    "# CNN pour classification binaire"
   ]
  },
  {
   "cell_type": "code",
   "execution_count": 16,
   "metadata": {},
   "outputs": [],
   "source": [
    "import pandas as pd\n",
    "from test import convertCatToNum, drop_rows_with_missing, normalize, encode_player_names, split_data\n",
    "import numpy as np\n",
    "from sklearn.metrics import classification_report\n",
    "from sklearn.model_selection import RandomizedSearchCV\n",
    "from sklearn.ensemble import RandomForestClassifier\n",
    "import matplotlib.pyplot as plt\n",
    "\n",
    "# on import toutes les données\n",
    "\n",
    "df_atp = pd.read_csv('all_matches_ATP.csv')"
   ]
  },
  {
   "cell_type": "code",
   "execution_count": 17,
   "metadata": {},
   "outputs": [
    {
     "data": {
      "text/plain": [
       "Index(['Court', 'Surface', 'Round', 'Player1_name', 'Player2_name',\n",
       "       'Player1_rank', 'Player2_rank', 'Comment', 'Series', 'y'],\n",
       "      dtype='object')"
      ]
     },
     "execution_count": 17,
     "metadata": {},
     "output_type": "execute_result"
    }
   ],
   "source": [
    "df_atp.columns"
   ]
  },
  {
   "cell_type": "code",
   "execution_count": 18,
   "metadata": {},
   "outputs": [],
   "source": [
    "\n",
    "cat_cols = ['Court','Surface','Round','Comment']\n",
    "\n",
    "num_cols = [\"Player1_rank\",\"Player2_rank\", \"Series\",]\n"
   ]
  },
  {
   "cell_type": "code",
   "execution_count": 19,
   "metadata": {},
   "outputs": [
    {
     "name": "stdout",
     "output_type": "stream",
     "text": [
      " ===     Replace categorial variable     ===\n",
      " ===   Convert categorical to numerical  ===\n",
      " ===         drop missing values         ===\n",
      " ===            Normalize data           ===\n",
      "=== Encoding player names ===\n",
      "Encoding completed.\n",
      "=== Splitting data into train and test sets ===\n",
      "Data split completed.\n"
     ]
    }
   ],
   "source": [
    "df_processed = convertCatToNum(df=df_atp,cat_cols=cat_cols)\n",
    "df = drop_rows_with_missing(df_processed,columns=[\"y\",\"Series\"])\n",
    "df_atp = normalize(df,num_cols)\n",
    "df_final = encode_player_names(df=df_atp)\n",
    "\n",
    "X_train, X_test, y_train, y_test = split_data(df_final, target_column='y', test_size=0.2, random_state=42)\n"
   ]
  },
  {
   "cell_type": "code",
   "execution_count": 20,
   "metadata": {},
   "outputs": [
    {
     "data": {
      "text/plain": [
       "(33448, 26)"
      ]
     },
     "execution_count": 20,
     "metadata": {},
     "output_type": "execute_result"
    }
   ],
   "source": [
    "X_train.shape"
   ]
  },
  {
   "cell_type": "code",
   "execution_count": 21,
   "metadata": {},
   "outputs": [],
   "source": [
    "X_test = X_test.values.reshape((X_test.shape[0], 26, 1))\n",
    "X_train = X_train.values.reshape((X_train.shape[0], 26, 1))"
   ]
  },
  {
   "cell_type": "code",
   "execution_count": 22,
   "metadata": {},
   "outputs": [],
   "source": [
    "nbr_test_valid = int(len(X_test)/2)\n",
    "\n",
    "X_valid = X_test[:nbr_test_valid]\n",
    "X_test = X_test[nbr_test_valid:]\n",
    "\n",
    "y_valid = y_test[:nbr_test_valid]\n",
    "y_test = y_test[nbr_test_valid:]"
   ]
  },
  {
   "cell_type": "code",
   "execution_count": 23,
   "metadata": {},
   "outputs": [
    {
     "name": "stdout",
     "output_type": "stream",
     "text": [
      "X_train : (33448, 26, 1)\n",
      "y_train : (33448,)\n",
      "X_test : (4182, 26, 1)\n",
      "y_test : (4182,)\n",
      "X_valid : (4181, 26, 1)\n",
      "y_valid : (4181,)\n"
     ]
    }
   ],
   "source": [
    "print('X_train :',X_train.shape)\n",
    "print('y_train :',y_train.shape)\n",
    "print('X_test :',X_test.shape)\n",
    "print('y_test :',y_test.shape)\n",
    "print('X_valid :',X_valid.shape)\n",
    "print('y_valid :',y_valid.shape)"
   ]
  },
  {
   "cell_type": "markdown",
   "metadata": {},
   "source": [
    "# CNN binaire"
   ]
  },
  {
   "cell_type": "code",
   "execution_count": 24,
   "metadata": {},
   "outputs": [],
   "source": [
    "from tensorflow.keras.models import Sequential\n",
    "from keras.layers import Conv1D, MaxPooling1D, Flatten, Dense\n",
    "from tensorflow.keras.wrappers.scikit_learn import KerasClassifier\n",
    "from tensorflow.keras import layers, models\n",
    "import tensorflow as tf\n",
    "import time"
   ]
  },
  {
   "cell_type": "code",
   "execution_count": 25,
   "metadata": {},
   "outputs": [
    {
     "name": "stdout",
     "output_type": "stream",
     "text": [
      "WARNING:tensorflow:There are non-GPU devices in `tf.distribute.Strategy`, not using nccl allreduce.\n",
      "INFO:tensorflow:Using MirroredStrategy with devices ('/job:localhost/replica:0/task:0/device:CPU:0',)\n"
     ]
    }
   ],
   "source": [
    "strategy = tf.distribute.MirroredStrategy()\n",
    "\n",
    "with strategy.scope():\n",
    "\n",
    "    model_cnn_bin = models.Sequential([\n",
    "        layers.Conv1D(128, kernel_size=3, activation='relu', padding='same', kernel_initializer='he_uniform', input_shape=(26, 1)),\n",
    "        layers.BatchNormalization(),\n",
    "        layers.Conv1D(128, kernel_size=3, activation='relu', padding='same', kernel_initializer='he_uniform', input_shape=(26, 1)),\n",
    "        layers.BatchNormalization(),\n",
    "        layers.MaxPooling1D(pool_size=2),\n",
    "        layers.Dropout(0.25),\n",
    "\n",
    "        layers.Flatten(),\n",
    "        layers.Dense(128, activation='relu'),\n",
    "        layers.BatchNormalization(),\n",
    "        layers.Dropout(0.25),\n",
    "        layers.Dense(1, activation='sigmoid')\n",
    "    ])\n",
    "\n",
    "    model_cnn_bin.compile(optimizer='adam',\n",
    "                      loss='binary_crossentropy',\n",
    "                      metrics=['accuracy'])"
   ]
  },
  {
   "cell_type": "code",
   "execution_count": 26,
   "metadata": {},
   "outputs": [
    {
     "name": "stdout",
     "output_type": "stream",
     "text": [
      "Model: \"sequential_1\"\n",
      "_________________________________________________________________\n",
      " Layer (type)                Output Shape              Param #   \n",
      "=================================================================\n",
      " conv1d_2 (Conv1D)           (None, 26, 128)           512       \n",
      "                                                                 \n",
      " batch_normalization_3 (Batc  (None, 26, 128)          512       \n",
      " hNormalization)                                                 \n",
      "                                                                 \n",
      " conv1d_3 (Conv1D)           (None, 26, 128)           49280     \n",
      "                                                                 \n",
      " batch_normalization_4 (Batc  (None, 26, 128)          512       \n",
      " hNormalization)                                                 \n",
      "                                                                 \n",
      " max_pooling1d_1 (MaxPooling  (None, 13, 128)          0         \n",
      " 1D)                                                             \n",
      "                                                                 \n",
      " dropout_2 (Dropout)         (None, 13, 128)           0         \n",
      "                                                                 \n",
      " flatten_1 (Flatten)         (None, 1664)              0         \n",
      "                                                                 \n",
      " dense_2 (Dense)             (None, 128)               213120    \n",
      "                                                                 \n",
      " batch_normalization_5 (Batc  (None, 128)              512       \n",
      " hNormalization)                                                 \n",
      "                                                                 \n",
      " dropout_3 (Dropout)         (None, 128)               0         \n",
      "                                                                 \n",
      " dense_3 (Dense)             (None, 1)                 129       \n",
      "                                                                 \n",
      "=================================================================\n",
      "Total params: 264,577\n",
      "Trainable params: 263,809\n",
      "Non-trainable params: 768\n",
      "_________________________________________________________________\n"
     ]
    }
   ],
   "source": [
    "model_cnn_bin.summary()"
   ]
  },
  {
   "cell_type": "code",
   "execution_count": 27,
   "metadata": {},
   "outputs": [
    {
     "name": "stdout",
     "output_type": "stream",
     "text": [
      "Epoch 1/20\n"
     ]
    },
    {
     "name": "stdout",
     "output_type": "stream",
     "text": [
      "523/523 [==============================] - 54s 82ms/step - loss: 0.7412 - accuracy: 0.5010 - val_loss: 0.6968 - val_accuracy: 0.5039\n",
      "Epoch 2/20\n",
      "523/523 [==============================] - 24s 46ms/step - loss: 0.7038 - accuracy: 0.4997 - val_loss: 0.6964 - val_accuracy: 0.4925\n",
      "Epoch 3/20\n",
      "523/523 [==============================] - 29s 56ms/step - loss: 0.6969 - accuracy: 0.5063 - val_loss: 0.6948 - val_accuracy: 0.5147\n",
      "Epoch 4/20\n",
      "523/523 [==============================] - 27s 52ms/step - loss: 0.6955 - accuracy: 0.5033 - val_loss: 0.6954 - val_accuracy: 0.5123\n",
      "Epoch 5/20\n",
      "523/523 [==============================] - 28s 54ms/step - loss: 0.6945 - accuracy: 0.5065 - val_loss: 0.6943 - val_accuracy: 0.5152\n",
      "Epoch 6/20\n",
      "523/523 [==============================] - 20s 39ms/step - loss: 0.6946 - accuracy: 0.5019 - val_loss: 0.6975 - val_accuracy: 0.4920\n",
      "Epoch 7/20\n",
      "523/523 [==============================] - 22s 42ms/step - loss: 0.6940 - accuracy: 0.5082 - val_loss: 0.6931 - val_accuracy: 0.5061\n",
      "Epoch 8/20\n",
      "523/523 [==============================] - 18s 35ms/step - loss: 0.6942 - accuracy: 0.5010 - val_loss: 0.6955 - val_accuracy: 0.4929\n",
      "Epoch 9/20\n",
      "523/523 [==============================] - 26s 50ms/step - loss: 0.6944 - accuracy: 0.5012 - val_loss: 0.6942 - val_accuracy: 0.4989\n",
      "Epoch 10/20\n",
      "523/523 [==============================] - 26s 50ms/step - loss: 0.6939 - accuracy: 0.5071 - val_loss: 0.6934 - val_accuracy: 0.5071\n",
      "Epoch 11/20\n",
      "523/523 [==============================] - 18s 35ms/step - loss: 0.6941 - accuracy: 0.5025 - val_loss: 0.6925 - val_accuracy: 0.5128\n",
      "Epoch 12/20\n",
      "523/523 [==============================] - 24s 45ms/step - loss: 0.6885 - accuracy: 0.5206 - val_loss: 0.7119 - val_accuracy: 0.5028\n",
      "Epoch 13/20\n",
      "523/523 [==============================] - 25s 48ms/step - loss: 0.6522 - accuracy: 0.6150 - val_loss: 0.7240 - val_accuracy: 0.5039\n",
      "Epoch 14/20\n",
      "523/523 [==============================] - 30s 58ms/step - loss: 0.6404 - accuracy: 0.6360 - val_loss: 0.6848 - val_accuracy: 0.5963\n",
      "Epoch 15/20\n",
      "523/523 [==============================] - 23s 43ms/step - loss: 0.6355 - accuracy: 0.6437 - val_loss: 0.6376 - val_accuracy: 0.6362\n",
      "Epoch 16/20\n",
      "523/523 [==============================] - 25s 47ms/step - loss: 0.6328 - accuracy: 0.6463 - val_loss: 0.6326 - val_accuracy: 0.6448\n",
      "Epoch 17/20\n",
      "523/523 [==============================] - 25s 47ms/step - loss: 0.6318 - accuracy: 0.6456 - val_loss: 0.6206 - val_accuracy: 0.6470\n",
      "Epoch 18/20\n",
      "523/523 [==============================] - 22s 42ms/step - loss: 0.6319 - accuracy: 0.6427 - val_loss: 0.6467 - val_accuracy: 0.6345\n",
      "Epoch 19/20\n",
      "523/523 [==============================] - 19s 37ms/step - loss: 0.6273 - accuracy: 0.6491 - val_loss: 114.3824 - val_accuracy: 0.5183\n",
      "Epoch 20/20\n",
      "523/523 [==============================] - 19s 36ms/step - loss: 0.6357 - accuracy: 0.6356 - val_loss: 0.6302 - val_accuracy: 0.6475\n",
      "Temps du modèle: 507.0599250793457 s\n"
     ]
    }
   ],
   "source": [
    "# Train the model\n",
    "start_time = time.time()\n",
    "history = model_cnn_bin.fit(X_train, y_train, epochs=20, batch_size=64, validation_data=(X_valid, y_valid))\n",
    "end_time = time.time()\n",
    "cnn_time = end_time - start_time\n",
    "print(f\"Temps du modèle: {cnn_time} s\")"
   ]
  },
  {
   "cell_type": "code",
   "execution_count": 28,
   "metadata": {},
   "outputs": [
    {
     "data": {
      "image/png": "[encoded data removed]",
      "text/plain": [
       "<Figure size 576x360 with 1 Axes>"
      ]
     },
     "metadata": {
      "needs_background": "light"
     },
     "output_type": "display_data"
    }
   ],
   "source": [
    "pd.DataFrame(history.history).plot(figsize=(8, 5))\n",
    "plt.grid(True)\n",
    "plt.gca().set_ylim(0, 1)\n",
    "plt.xlabel('Epoch')\n",
    "plt.ylabel('Accuracy & loss')\n",
    "plt.gca().set_ylim(0.4, 0.8)\n",
    "plt.show()"
   ]
  },
  {
   "cell_type": "code",
   "execution_count": 29,
   "metadata": {},
   "outputs": [
    {
     "name": "stdout",
     "output_type": "stream",
     "text": [
      "131/131 [==============================] - 4s 20ms/step - loss: 0.6302 - accuracy: 0.6353\n",
      "Loss on test set: 0.6301835179328918\n",
      "Accuracy on test set: 0.6353419423103333\n"
     ]
    }
   ],
   "source": [
    "# Évaluer la performance sur l'ensemble de test\n",
    "loss, accuracy = model_cnn_bin.evaluate(X_test, y_test)\n",
    "\n",
    "# Affichez les résultats\n",
    "print(f\"Loss on test set: {loss}\")\n",
    "print(f\"Accuracy on test set: {accuracy}\")"
   ]
  }
 ],
 "metadata": {
  "kernelspec": {
   "display_name": "Python 3",
   "language": "python",
   "name": "python3"
  },
  "language_info": {
   "codemirror_mode": {
    "name": "ipython",
    "version": 3
   },
   "file_extension": ".py",
   "mimetype": "text/x-python",
   "name": "python",
   "nbconvert_exporter": "python",
   "pygments_lexer": "ipython3",
   "version": "3.9.13"
  }
 },
 "nbformat": 4,
 "nbformat_minor": 2
}
