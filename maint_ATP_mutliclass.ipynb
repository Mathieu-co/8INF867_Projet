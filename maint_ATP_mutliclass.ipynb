{
 "cells": [
  {
   "cell_type": "markdown",
   "metadata": {},
   "source": [
    "# Préparation pour la classification mutliclass"
   ]
  },
  {
   "cell_type": "code",
   "execution_count": 1,
   "metadata": {},
   "outputs": [],
   "source": [
    "import pandas as pd\n",
    "from test import convertCatToNum, drop_rows_with_missing, normalize, encode_player_names, split_data\n",
    "import numpy as np\n",
    "from sklearn.metrics import classification_report\n",
    "from sklearn.model_selection import RandomizedSearchCV\n",
    "from sklearn.ensemble import RandomForestClassifier\n",
    "import matplotlib as plt\n",
    "import time\n",
    "\n",
    "# on import toutes les données\n",
    "\n",
    "df_atp_multi = pd.read_csv('all_matches_ATP_multi.csv')"
   ]
  },
  {
   "cell_type": "code",
   "execution_count": 2,
   "metadata": {},
   "outputs": [
    {
     "name": "stdout",
     "output_type": "stream",
     "text": [
      "<class 'pandas.core.frame.DataFrame'>\n",
      "RangeIndex: 37861 entries, 0 to 37860\n",
      "Data columns (total 14 columns):\n",
      " #   Column      Non-Null Count  Dtype  \n",
      "---  ------      --------------  -----  \n",
      " 0   ATP         37861 non-null  int64  \n",
      " 1   Court       37861 non-null  object \n",
      " 2   Surface     37861 non-null  object \n",
      " 3   Round       37861 non-null  object \n",
      " 4   Best of     37861 non-null  float64\n",
      " 5   WRank       37861 non-null  int64  \n",
      " 6   LRank       37861 non-null  int64  \n",
      " 7   Comment     37861 non-null  object \n",
      " 8   PSW         37861 non-null  float64\n",
      " 9   PSL         37861 non-null  float64\n",
      " 10  B365W       37861 non-null  float64\n",
      " 11  B365L       37861 non-null  float64\n",
      " 12  Series      27456 non-null  float64\n",
      " 13  y_multicat  37861 non-null  int64  \n",
      "dtypes: float64(6), int64(4), object(4)\n",
      "memory usage: 4.0+ MB\n"
     ]
    }
   ],
   "source": [
    "df_atp_multi.info()"
   ]
  },
  {
   "cell_type": "code",
   "execution_count": 3,
   "metadata": {},
   "outputs": [
    {
     "data": {
      "text/html": [
       "<div>\n",
       "<style scoped>\n",
       "    .dataframe tbody tr th:only-of-type {\n",
       "        vertical-align: middle;\n",
       "    }\n",
       "\n",
       "    .dataframe tbody tr th {\n",
       "        vertical-align: top;\n",
       "    }\n",
       "\n",
       "    .dataframe thead th {\n",
       "        text-align: right;\n",
       "    }\n",
       "</style>\n",
       "<table border=\"1\" class=\"dataframe\">\n",
       "  <thead>\n",
       "    <tr style=\"text-align: right;\">\n",
       "      <th></th>\n",
       "      <th>ATP</th>\n",
       "      <th>Court</th>\n",
       "      <th>Surface</th>\n",
       "      <th>Round</th>\n",
       "      <th>Best of</th>\n",
       "      <th>WRank</th>\n",
       "      <th>LRank</th>\n",
       "      <th>Comment</th>\n",
       "      <th>PSW</th>\n",
       "      <th>PSL</th>\n",
       "      <th>B365W</th>\n",
       "      <th>B365L</th>\n",
       "      <th>Series</th>\n",
       "      <th>y_multicat</th>\n",
       "    </tr>\n",
       "  </thead>\n",
       "  <tbody>\n",
       "    <tr>\n",
       "      <th>0</th>\n",
       "      <td>3</td>\n",
       "      <td>Outdoor</td>\n",
       "      <td>Hard</td>\n",
       "      <td>1st Round</td>\n",
       "      <td>3.0</td>\n",
       "      <td>52</td>\n",
       "      <td>96</td>\n",
       "      <td>Completed</td>\n",
       "      <td>2.060</td>\n",
       "      <td>1.82</td>\n",
       "      <td>2.100</td>\n",
       "      <td>1.667</td>\n",
       "      <td>NaN</td>\n",
       "      <td>0</td>\n",
       "    </tr>\n",
       "    <tr>\n",
       "      <th>1</th>\n",
       "      <td>2</td>\n",
       "      <td>Outdoor</td>\n",
       "      <td>Hard</td>\n",
       "      <td>1st Round</td>\n",
       "      <td>3.0</td>\n",
       "      <td>92</td>\n",
       "      <td>99</td>\n",
       "      <td>Completed</td>\n",
       "      <td>1.455</td>\n",
       "      <td>2.90</td>\n",
       "      <td>1.444</td>\n",
       "      <td>2.625</td>\n",
       "      <td>NaN</td>\n",
       "      <td>1</td>\n",
       "    </tr>\n",
       "  </tbody>\n",
       "</table>\n",
       "</div>"
      ],
      "text/plain": [
       "   ATP    Court Surface      Round  Best of  WRank  LRank    Comment    PSW  \\\n",
       "0    3  Outdoor    Hard  1st Round      3.0     52     96  Completed  2.060   \n",
       "1    2  Outdoor    Hard  1st Round      3.0     92     99  Completed  1.455   \n",
       "\n",
       "    PSL  B365W  B365L  Series  y_multicat  \n",
       "0  1.82  2.100  1.667     NaN           0  \n",
       "1  2.90  1.444  2.625     NaN           1  "
      ]
     },
     "execution_count": 3,
     "metadata": {},
     "output_type": "execute_result"
    }
   ],
   "source": [
    "df_atp_multi.head(2)"
   ]
  },
  {
   "cell_type": "code",
   "execution_count": 4,
   "metadata": {},
   "outputs": [],
   "source": [
    "cat_cols = ['Court','Surface','Round','Comment']\n",
    "num_cols = [\"PSW\",\"PSL\",\"Best of\",\"B365W\",\"B365L\",\"Series\"]"
   ]
  },
  {
   "cell_type": "code",
   "execution_count": 5,
   "metadata": {},
   "outputs": [
    {
     "name": "stdout",
     "output_type": "stream",
     "text": [
      " ===     Replace categorial variable     ===\n"
     ]
    },
    {
     "name": "stdout",
     "output_type": "stream",
     "text": [
      " ===   Convert categorical to numerical  ===\n",
      " ===         drop missing values         ===\n",
      " ===            Normalize data           ===\n"
     ]
    },
    {
     "ename": "KeyError",
     "evalue": "'Lsets'",
     "output_type": "error",
     "traceback": [
      "\u001b[1;31m---------------------------------------------------------------------------\u001b[0m",
      "\u001b[1;31mKeyError\u001b[0m                                  Traceback (most recent call last)",
      "File \u001b[1;32m~\\AppData\\Local\\Packages\\PythonSoftwareFoundation.Python.3.9_qbz5n2kfra8p0\\LocalCache\\local-packages\\Python39\\site-packages\\pandas\\core\\indexes\\base.py:3621\u001b[0m, in \u001b[0;36mIndex.get_loc\u001b[1;34m(self, key, method, tolerance)\u001b[0m\n\u001b[0;32m   3620\u001b[0m \u001b[39mtry\u001b[39;00m:\n\u001b[1;32m-> 3621\u001b[0m     \u001b[39mreturn\u001b[39;00m \u001b[39mself\u001b[39;49m\u001b[39m.\u001b[39;49m_engine\u001b[39m.\u001b[39;49mget_loc(casted_key)\n\u001b[0;32m   3622\u001b[0m \u001b[39mexcept\u001b[39;00m \u001b[39mKeyError\u001b[39;00m \u001b[39mas\u001b[39;00m err:\n",
      "File \u001b[1;32m~\\AppData\\Local\\Packages\\PythonSoftwareFoundation.Python.3.9_qbz5n2kfra8p0\\LocalCache\\local-packages\\Python39\\site-packages\\pandas\\_libs\\index.pyx:136\u001b[0m, in \u001b[0;36mpandas._libs.index.IndexEngine.get_loc\u001b[1;34m()\u001b[0m\n",
      "File \u001b[1;32m~\\AppData\\Local\\Packages\\PythonSoftwareFoundation.Python.3.9_qbz5n2kfra8p0\\LocalCache\\local-packages\\Python39\\site-packages\\pandas\\_libs\\index.pyx:163\u001b[0m, in \u001b[0;36mpandas._libs.index.IndexEngine.get_loc\u001b[1;34m()\u001b[0m\n",
      "File \u001b[1;32mpandas\\_libs\\hashtable_class_helper.pxi:5198\u001b[0m, in \u001b[0;36mpandas._libs.hashtable.PyObjectHashTable.get_item\u001b[1;34m()\u001b[0m\n",
      "File \u001b[1;32mpandas\\_libs\\hashtable_class_helper.pxi:5206\u001b[0m, in \u001b[0;36mpandas._libs.hashtable.PyObjectHashTable.get_item\u001b[1;34m()\u001b[0m\n",
      "\u001b[1;31mKeyError\u001b[0m: 'Lsets'",
      "\nThe above exception was the direct cause of the following exception:\n",
      "\u001b[1;31mKeyError\u001b[0m                                  Traceback (most recent call last)",
      "\u001b[1;32mc:\\Users\\User\\Documents\\16__Double_diplome_Canada\\2_fondamentaux_apprentissage_auto\\8INF867_Projet\\maint_ATP_mutliclass.ipynb Cell 6\u001b[0m line \u001b[0;36m<cell line: 3>\u001b[1;34m()\u001b[0m\n\u001b[0;32m      <a href='vscode-notebook-cell:/c%3A/Users/User/Documents/16__Double_diplome_Canada/2_fondamentaux_apprentissage_auto/8INF867_Projet/maint_ATP_mutliclass.ipynb#W5sZmlsZQ%3D%3D?line=0'>1</a>\u001b[0m df_processed \u001b[39m=\u001b[39m convertCatToNum(df\u001b[39m=\u001b[39mdf_atp_multi,cat_cols\u001b[39m=\u001b[39mcat_cols)\n\u001b[0;32m      <a href='vscode-notebook-cell:/c%3A/Users/User/Documents/16__Double_diplome_Canada/2_fondamentaux_apprentissage_auto/8INF867_Projet/maint_ATP_mutliclass.ipynb#W5sZmlsZQ%3D%3D?line=1'>2</a>\u001b[0m df \u001b[39m=\u001b[39m drop_rows_with_missing(df_processed,columns\u001b[39m=\u001b[39m[\u001b[39m\"\u001b[39m\u001b[39my_multicat\u001b[39m\u001b[39m\"\u001b[39m,\u001b[39m\"\u001b[39m\u001b[39mSeries\u001b[39m\u001b[39m\"\u001b[39m])\n\u001b[1;32m----> <a href='vscode-notebook-cell:/c%3A/Users/User/Documents/16__Double_diplome_Canada/2_fondamentaux_apprentissage_auto/8INF867_Projet/maint_ATP_mutliclass.ipynb#W5sZmlsZQ%3D%3D?line=2'>3</a>\u001b[0m df_final \u001b[39m=\u001b[39m normalize(df,num_cols)\n",
      "File \u001b[1;32mc:\\Users\\User\\Documents\\16__Double_diplome_Canada\\2_fondamentaux_apprentissage_auto\\8INF867_Projet\\test.py:29\u001b[0m, in \u001b[0;36mnormalize\u001b[1;34m(dff, col_name_list)\u001b[0m\n\u001b[0;32m     27\u001b[0m result \u001b[39m=\u001b[39m dff\u001b[39m.\u001b[39mcopy()\n\u001b[0;32m     28\u001b[0m \u001b[39mfor\u001b[39;00m feature_name \u001b[39min\u001b[39;00m col_name_list:\n\u001b[1;32m---> 29\u001b[0m     max_value \u001b[39m=\u001b[39m dff[feature_name]\u001b[39m.\u001b[39mmax()\n\u001b[0;32m     30\u001b[0m     min_value \u001b[39m=\u001b[39m dff[feature_name]\u001b[39m.\u001b[39mmin()\n\u001b[0;32m     31\u001b[0m     result[feature_name] \u001b[39m=\u001b[39m (dff[feature_name] \u001b[39m-\u001b[39m min_value) \u001b[39m/\u001b[39m (max_value \u001b[39m-\u001b[39m min_value)\n",
      "File \u001b[1;32m~\\AppData\\Local\\Packages\\PythonSoftwareFoundation.Python.3.9_qbz5n2kfra8p0\\LocalCache\\local-packages\\Python39\\site-packages\\pandas\\core\\frame.py:3505\u001b[0m, in \u001b[0;36mDataFrame.__getitem__\u001b[1;34m(self, key)\u001b[0m\n\u001b[0;32m   3503\u001b[0m \u001b[39mif\u001b[39;00m \u001b[39mself\u001b[39m\u001b[39m.\u001b[39mcolumns\u001b[39m.\u001b[39mnlevels \u001b[39m>\u001b[39m \u001b[39m1\u001b[39m:\n\u001b[0;32m   3504\u001b[0m     \u001b[39mreturn\u001b[39;00m \u001b[39mself\u001b[39m\u001b[39m.\u001b[39m_getitem_multilevel(key)\n\u001b[1;32m-> 3505\u001b[0m indexer \u001b[39m=\u001b[39m \u001b[39mself\u001b[39;49m\u001b[39m.\u001b[39;49mcolumns\u001b[39m.\u001b[39;49mget_loc(key)\n\u001b[0;32m   3506\u001b[0m \u001b[39mif\u001b[39;00m is_integer(indexer):\n\u001b[0;32m   3507\u001b[0m     indexer \u001b[39m=\u001b[39m [indexer]\n",
      "File \u001b[1;32m~\\AppData\\Local\\Packages\\PythonSoftwareFoundation.Python.3.9_qbz5n2kfra8p0\\LocalCache\\local-packages\\Python39\\site-packages\\pandas\\core\\indexes\\base.py:3623\u001b[0m, in \u001b[0;36mIndex.get_loc\u001b[1;34m(self, key, method, tolerance)\u001b[0m\n\u001b[0;32m   3621\u001b[0m     \u001b[39mreturn\u001b[39;00m \u001b[39mself\u001b[39m\u001b[39m.\u001b[39m_engine\u001b[39m.\u001b[39mget_loc(casted_key)\n\u001b[0;32m   3622\u001b[0m \u001b[39mexcept\u001b[39;00m \u001b[39mKeyError\u001b[39;00m \u001b[39mas\u001b[39;00m err:\n\u001b[1;32m-> 3623\u001b[0m     \u001b[39mraise\u001b[39;00m \u001b[39mKeyError\u001b[39;00m(key) \u001b[39mfrom\u001b[39;00m \u001b[39merr\u001b[39;00m\n\u001b[0;32m   3624\u001b[0m \u001b[39mexcept\u001b[39;00m \u001b[39mTypeError\u001b[39;00m:\n\u001b[0;32m   3625\u001b[0m     \u001b[39m# If we have a listlike key, _check_indexing_error will raise\u001b[39;00m\n\u001b[0;32m   3626\u001b[0m     \u001b[39m#  InvalidIndexError. Otherwise we fall through and re-raise\u001b[39;00m\n\u001b[0;32m   3627\u001b[0m     \u001b[39m#  the TypeError.\u001b[39;00m\n\u001b[0;32m   3628\u001b[0m     \u001b[39mself\u001b[39m\u001b[39m.\u001b[39m_check_indexing_error(key)\n",
      "\u001b[1;31mKeyError\u001b[0m: 'Lsets'"
     ]
    }
   ],
   "source": [
    "df_processed = convertCatToNum(df=df_atp_multi,cat_cols=cat_cols)\n",
    "df = drop_rows_with_missing(df_processed,columns=[\"y_multicat\",\"Series\"])\n",
    "df_final = normalize(df,num_cols)"
   ]
  },
  {
   "cell_type": "code",
   "execution_count": null,
   "metadata": {},
   "outputs": [
    {
     "data": {
      "text/html": [
       "<div>\n",
       "<style scoped>\n",
       "    .dataframe tbody tr th:only-of-type {\n",
       "        vertical-align: middle;\n",
       "    }\n",
       "\n",
       "    .dataframe tbody tr th {\n",
       "        vertical-align: top;\n",
       "    }\n",
       "\n",
       "    .dataframe thead th {\n",
       "        text-align: right;\n",
       "    }\n",
       "</style>\n",
       "<table border=\"1\" class=\"dataframe\">\n",
       "  <thead>\n",
       "    <tr style=\"text-align: right;\">\n",
       "      <th></th>\n",
       "      <th>ATP</th>\n",
       "      <th>Best of</th>\n",
       "      <th>WRank</th>\n",
       "      <th>LRank</th>\n",
       "      <th>Lsets</th>\n",
       "      <th>PSW</th>\n",
       "      <th>PSL</th>\n",
       "      <th>B365W</th>\n",
       "      <th>B365L</th>\n",
       "      <th>Series</th>\n",
       "      <th>...</th>\n",
       "      <th>Round_1st Round</th>\n",
       "      <th>Round_2nd Round</th>\n",
       "      <th>Round_3rd Round</th>\n",
       "      <th>Round_4th Round</th>\n",
       "      <th>Round_Quarterfinals</th>\n",
       "      <th>Round_Round Robin</th>\n",
       "      <th>Round_Semifinals</th>\n",
       "      <th>Round_The Final</th>\n",
       "      <th>Comment_Completed</th>\n",
       "      <th>Comment_Retired</th>\n",
       "    </tr>\n",
       "  </thead>\n",
       "  <tbody>\n",
       "    <tr>\n",
       "      <th>53</th>\n",
       "      <td>6</td>\n",
       "      <td>1.0</td>\n",
       "      <td>28</td>\n",
       "      <td>111</td>\n",
       "      <td>0.0</td>\n",
       "      <td>0.006143</td>\n",
       "      <td>0.032836</td>\n",
       "      <td>0.007591</td>\n",
       "      <td>0.034903</td>\n",
       "      <td>1.000000</td>\n",
       "      <td>...</td>\n",
       "      <td>1</td>\n",
       "      <td>0</td>\n",
       "      <td>0</td>\n",
       "      <td>0</td>\n",
       "      <td>0</td>\n",
       "      <td>0</td>\n",
       "      <td>0</td>\n",
       "      <td>0</td>\n",
       "      <td>0</td>\n",
       "      <td>1</td>\n",
       "    </tr>\n",
       "    <tr>\n",
       "      <th>942</th>\n",
       "      <td>67</td>\n",
       "      <td>0.0</td>\n",
       "      <td>1</td>\n",
       "      <td>10</td>\n",
       "      <td>0.0</td>\n",
       "      <td>0.002857</td>\n",
       "      <td>0.060338</td>\n",
       "      <td>0.002864</td>\n",
       "      <td>0.069907</td>\n",
       "      <td>0.714286</td>\n",
       "      <td>...</td>\n",
       "      <td>0</td>\n",
       "      <td>0</td>\n",
       "      <td>0</td>\n",
       "      <td>0</td>\n",
       "      <td>0</td>\n",
       "      <td>1</td>\n",
       "      <td>0</td>\n",
       "      <td>0</td>\n",
       "      <td>1</td>\n",
       "      <td>0</td>\n",
       "    </tr>\n",
       "    <tr>\n",
       "      <th>943</th>\n",
       "      <td>67</td>\n",
       "      <td>0.0</td>\n",
       "      <td>3</td>\n",
       "      <td>5</td>\n",
       "      <td>1.0</td>\n",
       "      <td>0.009229</td>\n",
       "      <td>0.022002</td>\n",
       "      <td>0.015136</td>\n",
       "      <td>0.022402</td>\n",
       "      <td>0.714286</td>\n",
       "      <td>...</td>\n",
       "      <td>0</td>\n",
       "      <td>0</td>\n",
       "      <td>0</td>\n",
       "      <td>0</td>\n",
       "      <td>0</td>\n",
       "      <td>1</td>\n",
       "      <td>0</td>\n",
       "      <td>0</td>\n",
       "      <td>1</td>\n",
       "      <td>0</td>\n",
       "    </tr>\n",
       "    <tr>\n",
       "      <th>944</th>\n",
       "      <td>67</td>\n",
       "      <td>0.0</td>\n",
       "      <td>5</td>\n",
       "      <td>10</td>\n",
       "      <td>0.0</td>\n",
       "      <td>0.011657</td>\n",
       "      <td>0.017418</td>\n",
       "      <td>0.015136</td>\n",
       "      <td>0.022402</td>\n",
       "      <td>0.714286</td>\n",
       "      <td>...</td>\n",
       "      <td>0</td>\n",
       "      <td>0</td>\n",
       "      <td>0</td>\n",
       "      <td>0</td>\n",
       "      <td>0</td>\n",
       "      <td>1</td>\n",
       "      <td>0</td>\n",
       "      <td>0</td>\n",
       "      <td>1</td>\n",
       "      <td>0</td>\n",
       "    </tr>\n",
       "    <tr>\n",
       "      <th>945</th>\n",
       "      <td>67</td>\n",
       "      <td>0.0</td>\n",
       "      <td>7</td>\n",
       "      <td>6</td>\n",
       "      <td>0.0</td>\n",
       "      <td>0.008943</td>\n",
       "      <td>0.022752</td>\n",
       "      <td>0.013636</td>\n",
       "      <td>0.023902</td>\n",
       "      <td>0.714286</td>\n",
       "      <td>...</td>\n",
       "      <td>0</td>\n",
       "      <td>0</td>\n",
       "      <td>0</td>\n",
       "      <td>0</td>\n",
       "      <td>0</td>\n",
       "      <td>1</td>\n",
       "      <td>0</td>\n",
       "      <td>0</td>\n",
       "      <td>1</td>\n",
       "      <td>0</td>\n",
       "    </tr>\n",
       "  </tbody>\n",
       "</table>\n",
       "<p>5 rows × 27 columns</p>\n",
       "</div>"
      ],
      "text/plain": [
       "     ATP  Best of  WRank  LRank  Lsets       PSW       PSL     B365W  \\\n",
       "53     6      1.0     28    111    0.0  0.006143  0.032836  0.007591   \n",
       "942   67      0.0      1     10    0.0  0.002857  0.060338  0.002864   \n",
       "943   67      0.0      3      5    1.0  0.009229  0.022002  0.015136   \n",
       "944   67      0.0      5     10    0.0  0.011657  0.017418  0.015136   \n",
       "945   67      0.0      7      6    0.0  0.008943  0.022752  0.013636   \n",
       "\n",
       "        B365L    Series  ...  Round_1st Round  Round_2nd Round  \\\n",
       "53   0.034903  1.000000  ...                1                0   \n",
       "942  0.069907  0.714286  ...                0                0   \n",
       "943  0.022402  0.714286  ...                0                0   \n",
       "944  0.022402  0.714286  ...                0                0   \n",
       "945  0.023902  0.714286  ...                0                0   \n",
       "\n",
       "     Round_3rd Round  Round_4th Round  Round_Quarterfinals  Round_Round Robin  \\\n",
       "53                 0                0                    0                  0   \n",
       "942                0                0                    0                  1   \n",
       "943                0                0                    0                  1   \n",
       "944                0                0                    0                  1   \n",
       "945                0                0                    0                  1   \n",
       "\n",
       "     Round_Semifinals  Round_The Final  Comment_Completed  Comment_Retired  \n",
       "53                  0                0                  0                1  \n",
       "942                 0                0                  1                0  \n",
       "943                 0                0                  1                0  \n",
       "944                 0                0                  1                0  \n",
       "945                 0                0                  1                0  \n",
       "\n",
       "[5 rows x 27 columns]"
      ]
     },
     "execution_count": 6,
     "metadata": {},
     "output_type": "execute_result"
    }
   ],
   "source": [
    "df_final.head()"
   ]
  },
  {
   "cell_type": "code",
   "execution_count": null,
   "metadata": {},
   "outputs": [
    {
     "name": "stdout",
     "output_type": "stream",
     "text": [
      "=== Splitting data into train and test sets ===\n",
      "Data split completed.\n"
     ]
    }
   ],
   "source": [
    "X_train, X_test, y_train, y_test = split_data(df_final,target_column='y_multicat', test_size=0.2, random_state=42)"
   ]
  },
  {
   "cell_type": "code",
   "execution_count": null,
   "metadata": {},
   "outputs": [
    {
     "data": {
      "text/plain": [
       "(21964, 26)"
      ]
     },
     "execution_count": 8,
     "metadata": {},
     "output_type": "execute_result"
    }
   ],
   "source": [
    "X_train.shape"
   ]
  },
  {
   "cell_type": "markdown",
   "metadata": {},
   "source": [
    "# Decision Tree"
   ]
  },
  {
   "cell_type": "code",
   "execution_count": null,
   "metadata": {},
   "outputs": [
    {
     "name": "stdout",
     "output_type": "stream",
     "text": [
      "Best Score: 0.4973603473191213\n",
      "Best Hyperparameters: {'max_features': 'sqrt', 'max_depth': 35}\n"
     ]
    }
   ],
   "source": [
    "from sklearn.tree import DecisionTreeClassifier\n",
    "\n",
    "# Define model\n",
    "model = DecisionTreeClassifier()\n",
    "\n",
    "\n",
    "# define search space\n",
    "param_grid = {\n",
    "    'max_depth': list(range(25, 100, 10)),\n",
    "    'max_features': ['auto', 'sqrt', 'log2']\n",
    "}\n",
    "\n",
    "search = RandomizedSearchCV(model, param_grid, n_iter=10, cv=10, scoring='accuracy', n_jobs=-1, random_state=1)\n",
    "\n",
    "# execute search\n",
    "result = search.fit(X_train, y_train)\n",
    "\n",
    "best_params_deci_tree_bin = result.best_params_\n",
    "# summarize result\n",
    "print('Best Score: %s' % result.best_score_)\n",
    "print('Best Hyperparameters: %s' % result.best_params_)"
   ]
  },
  {
   "cell_type": "code",
   "execution_count": null,
   "metadata": {},
   "outputs": [],
   "source": [
    "model = DecisionTreeClassifier(**best_params_deci_tree_bin)\n",
    "\n",
    "start_time = time.time()\n",
    "\n",
    "model.fit(X_train, y_train)\n",
    "\n",
    "end_time = time.time()\n",
    "DecisionTree_time = end_time - start_time"
   ]
  },
  {
   "cell_type": "code",
   "execution_count": null,
   "metadata": {},
   "outputs": [
    {
     "name": "stdout",
     "output_type": "stream",
     "text": [
      "              precision    recall  f1-score   support\n",
      "\n",
      "           0       0.49      0.46      0.48       996\n",
      "           1       0.47      0.47      0.47      1721\n",
      "           2       0.47      0.49      0.48       942\n",
      "           3       0.51      0.51      0.51      1833\n",
      "\n",
      "    accuracy                           0.49      5492\n",
      "   macro avg       0.49      0.48      0.48      5492\n",
      "weighted avg       0.49      0.49      0.49      5492\n",
      "\n"
     ]
    }
   ],
   "source": [
    "y_pred_test = model.predict(X_test)\n",
    "print(classification_report(y_test, y_pred_test))"
   ]
  },
  {
   "cell_type": "code",
   "execution_count": null,
   "metadata": {},
   "outputs": [
    {
     "data": {
      "text/plain": [
       "0.4868900218499636"
      ]
     },
     "execution_count": 12,
     "metadata": {},
     "output_type": "execute_result"
    }
   ],
   "source": [
    "# On va garder le score d'accuracy pour pouvoir le comparer avec d'autres modèle\n",
    "from sklearn.metrics import accuracy_score\n",
    "\n",
    "DescisionTree_score_multi = accuracy_score(y_test, y_pred_test)\n",
    "DescisionTree_score_multi"
   ]
  },
  {
   "cell_type": "markdown",
   "metadata": {},
   "source": [
    "# Xgboost"
   ]
  },
  {
   "cell_type": "code",
   "execution_count": null,
   "metadata": {},
   "outputs": [
    {
     "name": "stdout",
     "output_type": "stream",
     "text": [
      "Best Score: 0.5167545279230039\n",
      "Best Hyperparameters: {'subsample': 0.8, 'n_estimators': 500, 'max_depth': 4, 'learning_rate': 0.001, 'colsample_bytree': 0.8}\n"
     ]
    }
   ],
   "source": [
    "import xgboost as xgb\n",
    "from sklearn.model_selection import RandomizedSearchCV\n",
    "import numpy as np\n",
    "\n",
    "# Define the XGBoost model\n",
    "model = xgb.XGBClassifier()\n",
    "\n",
    "# Define the search space (parameter grid)\n",
    "param_grid = {\n",
    "    'n_estimators': np.arange(100, 1000, 100),  # Number of boosting rounds\n",
    "    'max_depth': np.arange(3, 10),  # Maximum tree depth\n",
    "    'learning_rate': [0.001,0.005,0.01, 0.1],  # Step size shrinkage used in update to prevent overfitting\n",
    "    'subsample': [0.7, 0.8, 0.9, 1.0],  # Fraction of samples used for fitting the trees\n",
    "    'colsample_bytree': [0.7, 0.8, 0.9, 1.0],  # Fraction of features used for fitting the trees\n",
    "}\n",
    "\n",
    "# Create a RandomizedSearchCV object\n",
    "search = RandomizedSearchCV(model, param_distributions=param_grid, n_iter=10, cv=5, scoring='accuracy', n_jobs=-1, random_state=1)\n",
    "\n",
    "# Execute the search\n",
    "result = search.fit(X_train, y_train)\n",
    "\n",
    "best_param_Xgboost_multi=result.best_params_\n",
    "\n",
    "# Summarize the results\n",
    "print('Best Score: %s' % result.best_score_)\n",
    "print('Best Hyperparameters: %s' % result.best_params_)"
   ]
  },
  {
   "cell_type": "code",
   "execution_count": null,
   "metadata": {},
   "outputs": [],
   "source": [
    "model = xgb.XGBClassifier(**best_param_Xgboost_multi)\n",
    "\n",
    "start_time = time.time()\n",
    "\n",
    "model.fit(X_train, y_train)\n",
    "\n",
    "end_time = time.time()\n",
    "Xgboost_time = end_time - start_time"
   ]
  },
  {
   "cell_type": "code",
   "execution_count": null,
   "metadata": {},
   "outputs": [
    {
     "name": "stdout",
     "output_type": "stream",
     "text": [
      "              precision    recall  f1-score   support\n",
      "\n",
      "           0       0.56      0.06      0.11       996\n",
      "           1       0.35      0.01      0.01      1721\n",
      "           2       0.49      0.95      0.65       942\n",
      "           3       0.51      0.99      0.68      1833\n",
      "\n",
      "    accuracy                           0.51      5492\n",
      "   macro avg       0.48      0.50      0.36      5492\n",
      "weighted avg       0.47      0.51      0.36      5492\n",
      "\n"
     ]
    }
   ],
   "source": [
    "y_pred_test = model.predict(X_test)\n",
    "print(classification_report(y_test, y_pred_test))"
   ]
  },
  {
   "cell_type": "code",
   "execution_count": null,
   "metadata": {},
   "outputs": [
    {
     "data": {
      "text/plain": [
       "0.5060087399854334"
      ]
     },
     "execution_count": 16,
     "metadata": {},
     "output_type": "execute_result"
    }
   ],
   "source": [
    "Xgboost_score_multi = accuracy_score(y_test, y_pred_test)\n",
    "Xgboost_score_multi"
   ]
  },
  {
   "cell_type": "markdown",
   "metadata": {},
   "source": [
    "# CatBoost"
   ]
  },
  {
   "cell_type": "code",
   "execution_count": null,
   "metadata": {},
   "outputs": [
    {
     "name": "stdout",
     "output_type": "stream",
     "text": [
      "0:\tlearn: 1.3765910\ttotal: 106ms\tremaining: 10.5s\n",
      "1:\tlearn: 1.3671427\ttotal: 145ms\tremaining: 7.12s\n",
      "2:\tlearn: 1.3578219\ttotal: 186ms\tremaining: 6.03s\n",
      "3:\tlearn: 1.3485736\ttotal: 232ms\tremaining: 5.58s\n",
      "4:\tlearn: 1.3393549\ttotal: 244ms\tremaining: 4.64s\n",
      "5:\tlearn: 1.3305173\ttotal: 288ms\tremaining: 4.52s\n",
      "6:\tlearn: 1.3217935\ttotal: 337ms\tremaining: 4.47s\n",
      "7:\tlearn: 1.3132183\ttotal: 380ms\tremaining: 4.37s\n",
      "8:\tlearn: 1.3047395\ttotal: 421ms\tremaining: 4.26s\n",
      "9:\tlearn: 1.2963983\ttotal: 460ms\tremaining: 4.14s\n",
      "10:\tlearn: 1.2883634\ttotal: 502ms\tremaining: 4.06s\n",
      "11:\tlearn: 1.2804986\ttotal: 546ms\tremaining: 4.01s\n",
      "12:\tlearn: 1.2726187\ttotal: 570ms\tremaining: 3.82s\n",
      "13:\tlearn: 1.2650349\ttotal: 610ms\tremaining: 3.75s\n",
      "14:\tlearn: 1.2574581\ttotal: 651ms\tremaining: 3.69s\n",
      "15:\tlearn: 1.2501400\ttotal: 694ms\tremaining: 3.64s\n",
      "16:\tlearn: 1.2427548\ttotal: 712ms\tremaining: 3.48s\n",
      "17:\tlearn: 1.2354712\ttotal: 731ms\tremaining: 3.33s\n",
      "18:\tlearn: 1.2283400\ttotal: 760ms\tremaining: 3.24s\n",
      "19:\tlearn: 1.2214381\ttotal: 802ms\tremaining: 3.21s\n",
      "20:\tlearn: 1.2145519\ttotal: 842ms\tremaining: 3.17s\n",
      "21:\tlearn: 1.2078145\ttotal: 882ms\tremaining: 3.13s\n",
      "22:\tlearn: 1.2012214\ttotal: 922ms\tremaining: 3.08s\n",
      "23:\tlearn: 1.1947288\ttotal: 964ms\tremaining: 3.05s\n",
      "24:\tlearn: 1.1883078\ttotal: 1000ms\tremaining: 3s\n",
      "25:\tlearn: 1.1820493\ttotal: 1.04s\tremaining: 2.95s\n",
      "26:\tlearn: 1.1758328\ttotal: 1.08s\tremaining: 2.91s\n",
      "27:\tlearn: 1.1698977\ttotal: 1.12s\tremaining: 2.88s\n",
      "28:\tlearn: 1.1640242\ttotal: 1.16s\tremaining: 2.84s\n",
      "29:\tlearn: 1.1580900\ttotal: 1.18s\tremaining: 2.76s\n",
      "30:\tlearn: 1.1522976\ttotal: 1.22s\tremaining: 2.71s\n",
      "31:\tlearn: 1.1465645\ttotal: 1.26s\tremaining: 2.67s\n",
      "32:\tlearn: 1.1409503\ttotal: 1.31s\tremaining: 2.67s\n",
      "33:\tlearn: 1.1354825\ttotal: 1.37s\tremaining: 2.67s\n",
      "34:\tlearn: 1.1299948\ttotal: 1.43s\tremaining: 2.65s\n",
      "35:\tlearn: 1.1245875\ttotal: 1.48s\tremaining: 2.63s\n",
      "36:\tlearn: 1.1192783\ttotal: 1.53s\tremaining: 2.61s\n",
      "37:\tlearn: 1.1140724\ttotal: 1.58s\tremaining: 2.59s\n",
      "38:\tlearn: 1.1088602\ttotal: 1.63s\tremaining: 2.55s\n",
      "39:\tlearn: 1.1038480\ttotal: 1.68s\tremaining: 2.51s\n",
      "40:\tlearn: 1.0988775\ttotal: 1.72s\tremaining: 2.48s\n",
      "41:\tlearn: 1.0939451\ttotal: 1.76s\tremaining: 2.44s\n",
      "42:\tlearn: 1.0890544\ttotal: 1.8s\tremaining: 2.39s\n",
      "43:\tlearn: 1.0844374\ttotal: 1.84s\tremaining: 2.35s\n",
      "44:\tlearn: 1.0798040\ttotal: 1.89s\tremaining: 2.3s\n",
      "45:\tlearn: 1.0752178\ttotal: 1.92s\tremaining: 2.26s\n",
      "46:\tlearn: 1.0705827\ttotal: 1.94s\tremaining: 2.19s\n",
      "47:\tlearn: 1.0660516\ttotal: 1.98s\tremaining: 2.15s\n",
      "48:\tlearn: 1.0615972\ttotal: 2.02s\tremaining: 2.1s\n",
      "49:\tlearn: 1.0572110\ttotal: 2.06s\tremaining: 2.06s\n",
      "50:\tlearn: 1.0529127\ttotal: 2.09s\tremaining: 2.01s\n",
      "51:\tlearn: 1.0486966\ttotal: 2.13s\tremaining: 1.96s\n",
      "52:\tlearn: 1.0445050\ttotal: 2.16s\tremaining: 1.92s\n",
      "53:\tlearn: 1.0404097\ttotal: 2.2s\tremaining: 1.88s\n",
      "54:\tlearn: 1.0362902\ttotal: 2.23s\tremaining: 1.82s\n",
      "55:\tlearn: 1.0321893\ttotal: 2.23s\tremaining: 1.75s\n",
      "56:\tlearn: 1.0282778\ttotal: 2.3s\tremaining: 1.74s\n",
      "57:\tlearn: 1.0243350\ttotal: 2.35s\tremaining: 1.7s\n",
      "58:\tlearn: 1.0205520\ttotal: 2.39s\tremaining: 1.66s\n",
      "59:\tlearn: 1.0167582\ttotal: 2.42s\tremaining: 1.62s\n",
      "60:\tlearn: 1.0130525\ttotal: 2.46s\tremaining: 1.57s\n",
      "61:\tlearn: 1.0093029\ttotal: 2.49s\tremaining: 1.52s\n",
      "62:\tlearn: 1.0056217\ttotal: 2.53s\tremaining: 1.49s\n",
      "63:\tlearn: 1.0020104\ttotal: 2.57s\tremaining: 1.45s\n",
      "64:\tlearn: 0.9984346\ttotal: 2.61s\tremaining: 1.4s\n",
      "65:\tlearn: 0.9949349\ttotal: 2.65s\tremaining: 1.37s\n",
      "66:\tlearn: 0.9914889\ttotal: 2.7s\tremaining: 1.33s\n",
      "67:\tlearn: 0.9881533\ttotal: 2.74s\tremaining: 1.29s\n",
      "68:\tlearn: 0.9848216\ttotal: 2.78s\tremaining: 1.25s\n",
      "69:\tlearn: 0.9815151\ttotal: 2.82s\tremaining: 1.21s\n",
      "70:\tlearn: 0.9782514\ttotal: 2.85s\tremaining: 1.17s\n",
      "71:\tlearn: 0.9749896\ttotal: 2.88s\tremaining: 1.12s\n",
      "72:\tlearn: 0.9717766\ttotal: 2.92s\tremaining: 1.08s\n",
      "73:\tlearn: 0.9685548\ttotal: 2.93s\tremaining: 1.03s\n",
      "74:\tlearn: 0.9654556\ttotal: 2.96s\tremaining: 988ms\n",
      "75:\tlearn: 0.9624334\ttotal: 3s\tremaining: 948ms\n",
      "76:\tlearn: 0.9594091\ttotal: 3.04s\tremaining: 907ms\n",
      "77:\tlearn: 0.9563687\ttotal: 3.06s\tremaining: 862ms\n",
      "78:\tlearn: 0.9534174\ttotal: 3.09s\tremaining: 822ms\n",
      "79:\tlearn: 0.9505020\ttotal: 3.13s\tremaining: 782ms\n",
      "80:\tlearn: 0.9475480\ttotal: 3.14s\tremaining: 736ms\n",
      "81:\tlearn: 0.9447102\ttotal: 3.17s\tremaining: 696ms\n",
      "82:\tlearn: 0.9418548\ttotal: 3.19s\tremaining: 654ms\n",
      "83:\tlearn: 0.9390965\ttotal: 3.23s\tremaining: 615ms\n",
      "84:\tlearn: 0.9363649\ttotal: 3.26s\tremaining: 576ms\n",
      "85:\tlearn: 0.9336429\ttotal: 3.3s\tremaining: 537ms\n",
      "86:\tlearn: 0.9309604\ttotal: 3.33s\tremaining: 498ms\n",
      "87:\tlearn: 0.9283231\ttotal: 3.37s\tremaining: 459ms\n",
      "88:\tlearn: 0.9257327\ttotal: 3.4s\tremaining: 421ms\n",
      "89:\tlearn: 0.9231659\ttotal: 3.44s\tremaining: 382ms\n",
      "90:\tlearn: 0.9206121\ttotal: 3.47s\tremaining: 343ms\n",
      "91:\tlearn: 0.9180315\ttotal: 3.48s\tremaining: 302ms\n",
      "92:\tlearn: 0.9155733\ttotal: 3.51s\tremaining: 264ms\n",
      "93:\tlearn: 0.9131351\ttotal: 3.55s\tremaining: 226ms\n",
      "94:\tlearn: 0.9107093\ttotal: 3.58s\tremaining: 189ms\n",
      "95:\tlearn: 0.9083457\ttotal: 3.62s\tremaining: 151ms\n",
      "96:\tlearn: 0.9059318\ttotal: 3.63s\tremaining: 112ms\n",
      "97:\tlearn: 0.9035572\ttotal: 3.64s\tremaining: 74.3ms\n",
      "98:\tlearn: 0.9012543\ttotal: 3.67s\tremaining: 37.1ms\n",
      "99:\tlearn: 0.8989158\ttotal: 3.68s\tremaining: 0us\n",
      "Best Score: 0.5189401025891083\n",
      "Best Hyperparameters: {'learning_rate': 0.01, 'iterations': 100, 'depth': 8, 'colsample_bylevel': 1.0}\n"
     ]
    }
   ],
   "source": [
    "from catboost import CatBoostClassifier\n",
    "from sklearn.model_selection import RandomizedSearchCV\n",
    "\n",
    "# Define the CatBoost model\n",
    "model = CatBoostClassifier()\n",
    "\n",
    "# Define the search space (parameter grid)\n",
    "param_grid = {\n",
    "    'iterations': [100, 200, 300],  # Number of boosting rounds\n",
    "    'depth': [8,10,12],  # Maximum tree depth\n",
    "    'learning_rate': [0.01, 0.1, 0.2, 0.3],  # Step size shrinkage used in update\n",
    "    'colsample_bylevel': [0.7, 0.8, 0.9, 1.0],  # Fraction of features used for fitting the trees at each level\n",
    "}\n",
    "\n",
    "# Create a RandomizedSearchCV object\n",
    "search = RandomizedSearchCV(model, param_distributions=param_grid, n_iter=10, cv=5, scoring='accuracy', n_jobs=-1, random_state=1)\n",
    "\n",
    "# Execute the search\n",
    "result = search.fit(X_train, y_train)\n",
    "\n",
    "best_param_Xgboost_multi = result.best_params_\n",
    "\n",
    "# Summarize the results\n",
    "print('Best Score: %s' % result.best_score_)\n",
    "print('Best Hyperparameters: %s' % result.best_params_)"
   ]
  },
  {
   "cell_type": "code",
   "execution_count": null,
   "metadata": {},
   "outputs": [
    {
     "name": "stdout",
     "output_type": "stream",
     "text": [
      "0:\tlearn: 1.3765910\ttotal: 43.3ms\tremaining: 4.29s\n",
      "1:\tlearn: 1.3671427\ttotal: 89.3ms\tremaining: 4.37s\n",
      "2:\tlearn: 1.3578219\ttotal: 135ms\tremaining: 4.36s\n",
      "3:\tlearn: 1.3485736\ttotal: 177ms\tremaining: 4.24s\n",
      "4:\tlearn: 1.3393549\ttotal: 187ms\tremaining: 3.55s\n",
      "5:\tlearn: 1.3305173\ttotal: 222ms\tremaining: 3.48s\n",
      "6:\tlearn: 1.3217935\ttotal: 264ms\tremaining: 3.5s\n",
      "7:\tlearn: 1.3132183\ttotal: 304ms\tremaining: 3.5s\n",
      "8:\tlearn: 1.3047395\ttotal: 344ms\tremaining: 3.48s\n",
      "9:\tlearn: 1.2963983\ttotal: 385ms\tremaining: 3.46s\n",
      "10:\tlearn: 1.2883634\ttotal: 428ms\tremaining: 3.46s\n",
      "11:\tlearn: 1.2804986\ttotal: 464ms\tremaining: 3.4s\n",
      "12:\tlearn: 1.2726187\ttotal: 490ms\tremaining: 3.28s\n",
      "13:\tlearn: 1.2650349\ttotal: 533ms\tremaining: 3.27s\n",
      "14:\tlearn: 1.2574581\ttotal: 577ms\tremaining: 3.27s\n",
      "15:\tlearn: 1.2501400\ttotal: 616ms\tremaining: 3.23s\n",
      "16:\tlearn: 1.2427548\ttotal: 635ms\tremaining: 3.1s\n",
      "17:\tlearn: 1.2354712\ttotal: 648ms\tremaining: 2.95s\n",
      "18:\tlearn: 1.2283400\ttotal: 675ms\tremaining: 2.88s\n",
      "19:\tlearn: 1.2214381\ttotal: 716ms\tremaining: 2.86s\n",
      "20:\tlearn: 1.2145519\ttotal: 754ms\tremaining: 2.83s\n",
      "21:\tlearn: 1.2078145\ttotal: 789ms\tremaining: 2.8s\n",
      "22:\tlearn: 1.2012214\ttotal: 830ms\tremaining: 2.78s\n",
      "23:\tlearn: 1.1947288\ttotal: 867ms\tremaining: 2.75s\n",
      "24:\tlearn: 1.1883078\ttotal: 907ms\tremaining: 2.72s\n",
      "25:\tlearn: 1.1820493\ttotal: 947ms\tremaining: 2.69s\n",
      "26:\tlearn: 1.1758328\ttotal: 983ms\tremaining: 2.66s\n",
      "27:\tlearn: 1.1698977\ttotal: 1.02s\tremaining: 2.63s\n",
      "28:\tlearn: 1.1640242\ttotal: 1.06s\tremaining: 2.61s\n",
      "29:\tlearn: 1.1580900\ttotal: 1.09s\tremaining: 2.55s\n",
      "30:\tlearn: 1.1522976\ttotal: 1.13s\tremaining: 2.52s\n",
      "31:\tlearn: 1.1465645\ttotal: 1.18s\tremaining: 2.51s\n",
      "32:\tlearn: 1.1409503\ttotal: 1.23s\tremaining: 2.5s\n",
      "33:\tlearn: 1.1354825\ttotal: 1.28s\tremaining: 2.48s\n",
      "34:\tlearn: 1.1299948\ttotal: 1.31s\tremaining: 2.44s\n",
      "35:\tlearn: 1.1245875\ttotal: 1.36s\tremaining: 2.41s\n",
      "36:\tlearn: 1.1192783\ttotal: 1.4s\tremaining: 2.38s\n",
      "37:\tlearn: 1.1140724\ttotal: 1.43s\tremaining: 2.33s\n",
      "38:\tlearn: 1.1088602\ttotal: 1.46s\tremaining: 2.29s\n",
      "39:\tlearn: 1.1038480\ttotal: 1.5s\tremaining: 2.25s\n",
      "40:\tlearn: 1.0988775\ttotal: 1.54s\tremaining: 2.21s\n",
      "41:\tlearn: 1.0939451\ttotal: 1.58s\tremaining: 2.18s\n",
      "42:\tlearn: 1.0890544\ttotal: 1.62s\tremaining: 2.14s\n",
      "43:\tlearn: 1.0844374\ttotal: 1.66s\tremaining: 2.11s\n",
      "44:\tlearn: 1.0798040\ttotal: 1.69s\tremaining: 2.07s\n",
      "45:\tlearn: 1.0752178\ttotal: 1.73s\tremaining: 2.04s\n",
      "46:\tlearn: 1.0705827\ttotal: 1.75s\tremaining: 1.97s\n",
      "47:\tlearn: 1.0660516\ttotal: 1.79s\tremaining: 1.94s\n",
      "48:\tlearn: 1.0615972\ttotal: 1.83s\tremaining: 1.9s\n",
      "49:\tlearn: 1.0572110\ttotal: 1.87s\tremaining: 1.87s\n",
      "50:\tlearn: 1.0529127\ttotal: 1.92s\tremaining: 1.84s\n",
      "51:\tlearn: 1.0486966\ttotal: 1.97s\tremaining: 1.82s\n",
      "52:\tlearn: 1.0445050\ttotal: 2.01s\tremaining: 1.78s\n",
      "53:\tlearn: 1.0404097\ttotal: 2.05s\tremaining: 1.75s\n",
      "54:\tlearn: 1.0362902\ttotal: 2.08s\tremaining: 1.7s\n",
      "55:\tlearn: 1.0321893\ttotal: 2.09s\tremaining: 1.64s\n",
      "56:\tlearn: 1.0282778\ttotal: 2.13s\tremaining: 1.61s\n",
      "57:\tlearn: 1.0243350\ttotal: 2.17s\tremaining: 1.57s\n",
      "58:\tlearn: 1.0205520\ttotal: 2.21s\tremaining: 1.53s\n",
      "59:\tlearn: 1.0167582\ttotal: 2.24s\tremaining: 1.49s\n",
      "60:\tlearn: 1.0130525\ttotal: 2.27s\tremaining: 1.45s\n",
      "61:\tlearn: 1.0093029\ttotal: 2.3s\tremaining: 1.41s\n",
      "62:\tlearn: 1.0056217\ttotal: 2.33s\tremaining: 1.37s\n",
      "63:\tlearn: 1.0020104\ttotal: 2.36s\tremaining: 1.33s\n",
      "64:\tlearn: 0.9984346\ttotal: 2.4s\tremaining: 1.29s\n",
      "65:\tlearn: 0.9949349\ttotal: 2.43s\tremaining: 1.25s\n",
      "66:\tlearn: 0.9914889\ttotal: 2.46s\tremaining: 1.21s\n",
      "67:\tlearn: 0.9881533\ttotal: 2.5s\tremaining: 1.18s\n",
      "68:\tlearn: 0.9848216\ttotal: 2.54s\tremaining: 1.14s\n",
      "69:\tlearn: 0.9815151\ttotal: 2.6s\tremaining: 1.11s\n",
      "70:\tlearn: 0.9782514\ttotal: 2.65s\tremaining: 1.08s\n",
      "71:\tlearn: 0.9749896\ttotal: 2.69s\tremaining: 1.04s\n",
      "72:\tlearn: 0.9717766\ttotal: 2.73s\tremaining: 1.01s\n",
      "73:\tlearn: 0.9685548\ttotal: 2.75s\tremaining: 965ms\n",
      "74:\tlearn: 0.9654556\ttotal: 2.79s\tremaining: 929ms\n",
      "75:\tlearn: 0.9624334\ttotal: 2.82s\tremaining: 892ms\n",
      "76:\tlearn: 0.9594091\ttotal: 2.86s\tremaining: 854ms\n",
      "77:\tlearn: 0.9563687\ttotal: 2.88s\tremaining: 813ms\n",
      "78:\tlearn: 0.9534174\ttotal: 2.92s\tremaining: 776ms\n",
      "79:\tlearn: 0.9505020\ttotal: 2.96s\tremaining: 741ms\n",
      "80:\tlearn: 0.9475480\ttotal: 2.97s\tremaining: 697ms\n",
      "81:\tlearn: 0.9447102\ttotal: 3.01s\tremaining: 660ms\n",
      "82:\tlearn: 0.9418548\ttotal: 3.03s\tremaining: 620ms\n",
      "83:\tlearn: 0.9390965\ttotal: 3.06s\tremaining: 583ms\n",
      "84:\tlearn: 0.9363649\ttotal: 3.09s\tremaining: 546ms\n",
      "85:\tlearn: 0.9336429\ttotal: 3.13s\tremaining: 509ms\n",
      "86:\tlearn: 0.9309604\ttotal: 3.17s\tremaining: 473ms\n",
      "87:\tlearn: 0.9283231\ttotal: 3.2s\tremaining: 437ms\n",
      "88:\tlearn: 0.9257327\ttotal: 3.24s\tremaining: 400ms\n",
      "89:\tlearn: 0.9231659\ttotal: 3.27s\tremaining: 363ms\n",
      "90:\tlearn: 0.9206121\ttotal: 3.3s\tremaining: 326ms\n",
      "91:\tlearn: 0.9180315\ttotal: 3.31s\tremaining: 288ms\n",
      "92:\tlearn: 0.9155733\ttotal: 3.34s\tremaining: 251ms\n",
      "93:\tlearn: 0.9131351\ttotal: 3.38s\tremaining: 215ms\n",
      "94:\tlearn: 0.9107093\ttotal: 3.41s\tremaining: 180ms\n",
      "95:\tlearn: 0.9083457\ttotal: 3.44s\tremaining: 143ms\n",
      "96:\tlearn: 0.9059318\ttotal: 3.46s\tremaining: 107ms\n",
      "97:\tlearn: 0.9035572\ttotal: 3.47s\tremaining: 70.8ms\n",
      "98:\tlearn: 0.9012543\ttotal: 3.5s\tremaining: 35.4ms\n",
      "99:\tlearn: 0.8989158\ttotal: 3.51s\tremaining: 0us\n"
     ]
    }
   ],
   "source": [
    "model = CatBoostClassifier(**best_param_Xgboost_multi)\n",
    "\n",
    "start_time = time.time()\n",
    "\n",
    "model.fit(X_train, y_train)\n",
    "\n",
    "end_time = time.time()\n",
    "CatBoost_time = end_time - start_time"
   ]
  },
  {
   "cell_type": "code",
   "execution_count": null,
   "metadata": {},
   "outputs": [
    {
     "name": "stdout",
     "output_type": "stream",
     "text": [
      "              precision    recall  f1-score   support\n",
      "\n",
      "           0       0.55      0.05      0.10       996\n",
      "           1       0.52      0.01      0.01      1721\n",
      "           2       0.49      0.96      0.65       942\n",
      "           3       0.52      0.99      0.68      1833\n",
      "\n",
      "    accuracy                           0.51      5492\n",
      "   macro avg       0.52      0.50      0.36      5492\n",
      "weighted avg       0.52      0.51      0.36      5492\n",
      "\n"
     ]
    }
   ],
   "source": [
    "y_pred_test = model.predict(X_test)\n",
    "y_pred_test_prob = model.predict_proba(X_test)\n",
    "\n",
    "print(classification_report(y_test, y_pred_test))"
   ]
  },
  {
   "cell_type": "code",
   "execution_count": null,
   "metadata": {},
   "outputs": [
    {
     "data": {
      "text/plain": [
       "0.5072833211944647"
      ]
     },
     "execution_count": 20,
     "metadata": {},
     "output_type": "execute_result"
    }
   ],
   "source": [
    "catboost_score_multi = accuracy_score(y_test, y_pred_test)\n",
    "catboost_score_multi"
   ]
  },
  {
   "cell_type": "markdown",
   "metadata": {},
   "source": [
    "# Logistique regression"
   ]
  },
  {
   "cell_type": "code",
   "execution_count": null,
   "metadata": {},
   "outputs": [
    {
     "name": "stderr",
     "output_type": "stream",
     "text": [
      "c:\\Users\\mathi\\anaconda3\\envs\\Keras\\lib\\site-packages\\sklearn\\model_selection\\_validation.py:378: FitFailedWarning: \n",
      "10 fits failed out of a total of 50.\n",
      "The score on these train-test partitions for these parameters will be set to nan.\n",
      "If these failures are not expected, you can try to debug them by setting error_score='raise'.\n",
      "\n",
      "Below are more details about the failures:\n",
      "--------------------------------------------------------------------------------\n",
      "10 fits failed with the following error:\n",
      "Traceback (most recent call last):\n",
      "  File \"c:\\Users\\mathi\\anaconda3\\envs\\Keras\\lib\\site-packages\\sklearn\\model_selection\\_validation.py\", line 686, in _fit_and_score\n",
      "    estimator.fit(X_train, y_train, **fit_params)\n",
      "  File \"c:\\Users\\mathi\\anaconda3\\envs\\Keras\\lib\\site-packages\\sklearn\\linear_model\\_logistic.py\", line 1162, in fit\n",
      "    solver = _check_solver(self.solver, self.penalty, self.dual)\n",
      "  File \"c:\\Users\\mathi\\anaconda3\\envs\\Keras\\lib\\site-packages\\sklearn\\linear_model\\_logistic.py\", line 54, in _check_solver\n",
      "    raise ValueError(\n",
      "ValueError: Solver sag supports only 'l2' or 'none' penalties, got l1 penalty.\n",
      "\n",
      "  warnings.warn(some_fits_failed_message, FitFailedWarning)\n",
      "c:\\Users\\mathi\\anaconda3\\envs\\Keras\\lib\\site-packages\\sklearn\\model_selection\\_search.py:952: UserWarning: One or more of the test scores are non-finite: [0.51461498 0.33732485 0.33732485        nan 0.33737038]\n",
      "  warnings.warn(\n"
     ]
    },
    {
     "name": "stdout",
     "output_type": "stream",
     "text": [
      "Best Score: 0.5146149783650997\n",
      "Best Hyperparameters: {'solver': 'liblinear', 'penalty': 'l2', 'C': 1.0}\n"
     ]
    }
   ],
   "source": [
    "from sklearn.linear_model import LogisticRegression\n",
    "\n",
    "# Define model\n",
    "model = LogisticRegression()\n",
    "\n",
    "# define evaluation\n",
    "# gkf = GroupKFold(n_splits=3) if not spec as cv= in the randomized search default is 5 fold cv\n",
    "\n",
    "# define search space\n",
    "param_grid = {\n",
    "    'C' : np.logspace(0, 4, num=10),\n",
    "    'penalty' : ['l1', 'l2'],\n",
    "    'solver' : ['liblinear', 'sag']\n",
    "}\n",
    "\n",
    "search = RandomizedSearchCV(model, param_grid, n_iter=5, cv=10, scoring='accuracy', n_jobs=-1, random_state=1)\n",
    "\n",
    "# execute search\n",
    "result = search.fit(X_train, y_train)\n",
    "\n",
    "best_params_logist_reg_multi = result.best_params_\n",
    "# summarize result\n",
    "print('Best Score: %s' % result.best_score_)\n",
    "print('Best Hyperparameters: %s' % result.best_params_)"
   ]
  },
  {
   "cell_type": "code",
   "execution_count": null,
   "metadata": {},
   "outputs": [],
   "source": [
    "model = LogisticRegression(**best_params_logist_reg_multi)\n",
    "\n",
    "start_time = time.time()\n",
    "\n",
    "model.fit(X_train,y_train)\n",
    "\n",
    "end_time = time.time()\n",
    "Logisti_reg_time = end_time - start_time"
   ]
  },
  {
   "cell_type": "code",
   "execution_count": null,
   "metadata": {},
   "outputs": [
    {
     "name": "stdout",
     "output_type": "stream",
     "text": [
      "              precision    recall  f1-score   support\n",
      "\n",
      "           0       0.43      0.10      0.17       996\n",
      "           1       0.52      0.08      0.14      1721\n",
      "           2       0.48      0.86      0.61       942\n",
      "           3       0.52      0.93      0.67      1833\n",
      "\n",
      "    accuracy                           0.50      5492\n",
      "   macro avg       0.49      0.49      0.40      5492\n",
      "weighted avg       0.50      0.50      0.40      5492\n",
      "\n"
     ]
    }
   ],
   "source": [
    "y_pred_test = model.predict(X_test)\n",
    "y_pred_test_prob = model.predict_proba(X_test)\n",
    "\n",
    "print(classification_report(y_test, y_pred_test))"
   ]
  },
  {
   "cell_type": "code",
   "execution_count": null,
   "metadata": {},
   "outputs": [
    {
     "data": {
      "text/plain": [
       "0.5016387472687546"
      ]
     },
     "execution_count": 24,
     "metadata": {},
     "output_type": "execute_result"
    }
   ],
   "source": [
    "logisti_reg_score_multi = accuracy_score(y_test, y_pred_test)\n",
    "logisti_reg_score_multi"
   ]
  },
  {
   "cell_type": "markdown",
   "metadata": {},
   "source": [
    "# RandomForestClassifier"
   ]
  },
  {
   "cell_type": "code",
   "execution_count": null,
   "metadata": {},
   "outputs": [
    {
     "name": "stdout",
     "output_type": "stream",
     "text": [
      "Best Score: 0.5011842403078217\n",
      "Best Hyperparameters: {'n_estimators': 180, 'max_depth': 55}\n"
     ]
    }
   ],
   "source": [
    "model = RandomForestClassifier()\n",
    "\n",
    "# define search space\n",
    "param_grid = {\n",
    "    'max_depth': list(range(25, 100, 10)),\n",
    "    'n_estimators': list(range(80, 200, 10))\n",
    "}\n",
    "\n",
    "search = RandomizedSearchCV(model, param_grid, n_iter=5, cv=10, scoring='accuracy', n_jobs=-1, random_state=1)\n",
    "\n",
    "# execute search\n",
    "result = search.fit(X_train, y_train)\n",
    "\n",
    "best_params_random_multi = result.best_params_\n",
    "# summarize result\n",
    "print('Best Score: %s' % result.best_score_)\n",
    "print('Best Hyperparameters: %s' % result.best_params_)"
   ]
  },
  {
   "cell_type": "code",
   "execution_count": null,
   "metadata": {},
   "outputs": [],
   "source": [
    "model = RandomForestClassifier(**best_params_random_multi)\n",
    "\n",
    "start_time = time.time()\n",
    "\n",
    "model.fit(X_train, y_train)\n",
    "\n",
    "end_time = time.time()\n",
    "Random_time = end_time - start_time"
   ]
  },
  {
   "cell_type": "code",
   "execution_count": null,
   "metadata": {},
   "outputs": [
    {
     "name": "stdout",
     "output_type": "stream",
     "text": [
      "              precision    recall  f1-score   support\n",
      "\n",
      "           0       0.53      0.45      0.48       996\n",
      "           1       0.48      0.43      0.46      1721\n",
      "           2       0.50      0.57      0.53       942\n",
      "           3       0.51      0.56      0.54      1833\n",
      "\n",
      "    accuracy                           0.50      5492\n",
      "   macro avg       0.50      0.50      0.50      5492\n",
      "weighted avg       0.50      0.50      0.50      5492\n",
      "\n"
     ]
    }
   ],
   "source": [
    "y_pred_test = model.predict(X_test)\n",
    "y_pred_test_prob = model.predict_proba(X_test)\n",
    "print(classification_report(y_test, y_pred_test))"
   ]
  },
  {
   "cell_type": "code",
   "execution_count": null,
   "metadata": {},
   "outputs": [
    {
     "data": {
      "text/plain": [
       "0.5025491624180627"
      ]
     },
     "execution_count": 28,
     "metadata": {},
     "output_type": "execute_result"
    }
   ],
   "source": [
    "random_score_multi = accuracy_score(y_test, y_pred_test)\n",
    "random_score_multi"
   ]
  },
  {
   "cell_type": "markdown",
   "metadata": {},
   "source": [
    "# MPLClassifier"
   ]
  },
  {
   "cell_type": "code",
   "execution_count": null,
   "metadata": {},
   "outputs": [
    {
     "data": {
      "text/html": [
       "<style>#sk-container-id-1 {color: black;background-color: white;}#sk-container-id-1 pre{padding: 0;}#sk-container-id-1 div.sk-toggleable {background-color: white;}#sk-container-id-1 label.sk-toggleable__label {cursor: pointer;display: block;width: 100%;margin-bottom: 0;padding: 0.3em;box-sizing: border-box;text-align: center;}#sk-container-id-1 label.sk-toggleable__label-arrow:before {content: \"▸\";float: left;margin-right: 0.25em;color: #696969;}#sk-container-id-1 label.sk-toggleable__label-arrow:hover:before {color: black;}#sk-container-id-1 div.sk-estimator:hover label.sk-toggleable__label-arrow:before {color: black;}#sk-container-id-1 div.sk-toggleable__content {max-height: 0;max-width: 0;overflow: hidden;text-align: left;background-color: #f0f8ff;}#sk-container-id-1 div.sk-toggleable__content pre {margin: 0.2em;color: black;border-radius: 0.25em;background-color: #f0f8ff;}#sk-container-id-1 input.sk-toggleable__control:checked~div.sk-toggleable__content {max-height: 200px;max-width: 100%;overflow: auto;}#sk-container-id-1 input.sk-toggleable__control:checked~label.sk-toggleable__label-arrow:before {content: \"▾\";}#sk-container-id-1 div.sk-estimator input.sk-toggleable__control:checked~label.sk-toggleable__label {background-color: #d4ebff;}#sk-container-id-1 div.sk-label input.sk-toggleable__control:checked~label.sk-toggleable__label {background-color: #d4ebff;}#sk-container-id-1 input.sk-hidden--visually {border: 0;clip: rect(1px 1px 1px 1px);clip: rect(1px, 1px, 1px, 1px);height: 1px;margin: -1px;overflow: hidden;padding: 0;position: absolute;width: 1px;}#sk-container-id-1 div.sk-estimator {font-family: monospace;background-color: #f0f8ff;border: 1px dotted black;border-radius: 0.25em;box-sizing: border-box;margin-bottom: 0.5em;}#sk-container-id-1 div.sk-estimator:hover {background-color: #d4ebff;}#sk-container-id-1 div.sk-parallel-item::after {content: \"\";width: 100%;border-bottom: 1px solid gray;flex-grow: 1;}#sk-container-id-1 div.sk-label:hover label.sk-toggleable__label {background-color: #d4ebff;}#sk-container-id-1 div.sk-serial::before {content: \"\";position: absolute;border-left: 1px solid gray;box-sizing: border-box;top: 0;bottom: 0;left: 50%;z-index: 0;}#sk-container-id-1 div.sk-serial {display: flex;flex-direction: column;align-items: center;background-color: white;padding-right: 0.2em;padding-left: 0.2em;position: relative;}#sk-container-id-1 div.sk-item {position: relative;z-index: 1;}#sk-container-id-1 div.sk-parallel {display: flex;align-items: stretch;justify-content: center;background-color: white;position: relative;}#sk-container-id-1 div.sk-item::before, #sk-container-id-1 div.sk-parallel-item::before {content: \"\";position: absolute;border-left: 1px solid gray;box-sizing: border-box;top: 0;bottom: 0;left: 50%;z-index: -1;}#sk-container-id-1 div.sk-parallel-item {display: flex;flex-direction: column;z-index: 1;position: relative;background-color: white;}#sk-container-id-1 div.sk-parallel-item:first-child::after {align-self: flex-end;width: 50%;}#sk-container-id-1 div.sk-parallel-item:last-child::after {align-self: flex-start;width: 50%;}#sk-container-id-1 div.sk-parallel-item:only-child::after {width: 0;}#sk-container-id-1 div.sk-dashed-wrapped {border: 1px dashed gray;margin: 0 0.4em 0.5em 0.4em;box-sizing: border-box;padding-bottom: 0.4em;background-color: white;}#sk-container-id-1 div.sk-label label {font-family: monospace;font-weight: bold;display: inline-block;line-height: 1.2em;}#sk-container-id-1 div.sk-label-container {text-align: center;}#sk-container-id-1 div.sk-container {/* jupyter's `normalize.less` sets `[hidden] { display: none; }` but bootstrap.min.css set `[hidden] { display: none !important; }` so we also need the `!important` here to be able to override the default hidden behavior on the sphinx rendered scikit-learn.org. See: https://github.com/scikit-learn/scikit-learn/issues/21755 */display: inline-block !important;position: relative;}#sk-container-id-1 div.sk-text-repr-fallback {display: none;}</style><div id=\"sk-container-id-1\" class=\"sk-top-container\"><div class=\"sk-text-repr-fallback\"><pre>GridSearchCV(cv=3, estimator=MLPClassifier(), n_jobs=-1,\n",
       "             param_grid={&#x27;activation&#x27;: [&#x27;relu&#x27;, &#x27;tanh&#x27;, &#x27;logistic&#x27;],\n",
       "                         &#x27;hidden_layer_sizes&#x27;: [(30, 20, 15, 25),\n",
       "                                                (50, 40, 30, 20)],\n",
       "                         &#x27;solver&#x27;: [&#x27;adam&#x27;, &#x27;lbfgs&#x27;, &#x27;sgd&#x27;]})</pre><b>In a Jupyter environment, please rerun this cell to show the HTML representation or trust the notebook. <br />On GitHub, the HTML representation is unable to render, please try loading this page with nbviewer.org.</b></div><div class=\"sk-container\" hidden><div class=\"sk-item sk-dashed-wrapped\"><div class=\"sk-label-container\"><div class=\"sk-label sk-toggleable\"><input class=\"sk-toggleable__control sk-hidden--visually\" id=\"sk-estimator-id-1\" type=\"checkbox\" ><label for=\"sk-estimator-id-1\" class=\"sk-toggleable__label sk-toggleable__label-arrow\">GridSearchCV</label><div class=\"sk-toggleable__content\"><pre>GridSearchCV(cv=3, estimator=MLPClassifier(), n_jobs=-1,\n",
       "             param_grid={&#x27;activation&#x27;: [&#x27;relu&#x27;, &#x27;tanh&#x27;, &#x27;logistic&#x27;],\n",
       "                         &#x27;hidden_layer_sizes&#x27;: [(30, 20, 15, 25),\n",
       "                                                (50, 40, 30, 20)],\n",
       "                         &#x27;solver&#x27;: [&#x27;adam&#x27;, &#x27;lbfgs&#x27;, &#x27;sgd&#x27;]})</pre></div></div></div><div class=\"sk-parallel\"><div class=\"sk-parallel-item\"><div class=\"sk-item\"><div class=\"sk-label-container\"><div class=\"sk-label sk-toggleable\"><input class=\"sk-toggleable__control sk-hidden--visually\" id=\"sk-estimator-id-2\" type=\"checkbox\" ><label for=\"sk-estimator-id-2\" class=\"sk-toggleable__label sk-toggleable__label-arrow\">estimator: MLPClassifier</label><div class=\"sk-toggleable__content\"><pre>MLPClassifier()</pre></div></div></div><div class=\"sk-serial\"><div class=\"sk-item\"><div class=\"sk-estimator sk-toggleable\"><input class=\"sk-toggleable__control sk-hidden--visually\" id=\"sk-estimator-id-3\" type=\"checkbox\" ><label for=\"sk-estimator-id-3\" class=\"sk-toggleable__label sk-toggleable__label-arrow\">MLPClassifier</label><div class=\"sk-toggleable__content\"><pre>MLPClassifier()</pre></div></div></div></div></div></div></div></div></div></div>"
      ],
      "text/plain": [
       "GridSearchCV(cv=3, estimator=MLPClassifier(), n_jobs=-1,\n",
       "             param_grid={'activation': ['relu', 'tanh', 'logistic'],\n",
       "                         'hidden_layer_sizes': [(30, 20, 15, 25),\n",
       "                                                (50, 40, 30, 20)],\n",
       "                         'solver': ['adam', 'lbfgs', 'sgd']})"
      ]
     },
     "execution_count": 29,
     "metadata": {},
     "output_type": "execute_result"
    }
   ],
   "source": [
    "from sklearn.neural_network import MLPClassifier\n",
    "from sklearn.model_selection import GridSearchCV\n",
    "\n",
    "mlp = MLPClassifier()\n",
    "# Couche de sortie multiclasse \n",
    "# donc la fonction d’activation des neurones de la couche de sortie est 'Softmax'\n",
    "mlp.out_activation_ = 'Softmax'\n",
    "mlp.n_outputs_ = 1\n",
    "\n",
    "param_grid = {\n",
    "    'hidden_layer_sizes': [(30, 20, 15, 25),(50, 40, 30,20)],\n",
    "    'activation':['relu', 'tanh', 'logistic'],\n",
    "    'solver':  ['adam', 'lbfgs', 'sgd'],\n",
    "}\n",
    "\n",
    "grid_search = GridSearchCV(mlp, param_grid, n_jobs=-1, cv=3)\n",
    "grid_search.fit(X_train, y_train)"
   ]
  },
  {
   "cell_type": "code",
   "execution_count": null,
   "metadata": {},
   "outputs": [
    {
     "name": "stdout",
     "output_type": "stream",
     "text": [
      "Best parameters found : {'activation': 'logistic', 'hidden_layer_sizes': (30, 20, 15, 25), 'solver': 'adam'}\n"
     ]
    }
   ],
   "source": [
    "best_params_mlp_multi = grid_search.best_params_\n",
    "# meilleur parametre\n",
    "print(f'Best parameters found : {best_params_mlp_multi}')"
   ]
  },
  {
   "cell_type": "code",
   "execution_count": null,
   "metadata": {},
   "outputs": [],
   "source": [
    "best_mlp = MLPClassifier(**best_params_mlp_multi)\n",
    "\n",
    "start_time = time.time()\n",
    "\n",
    "best_mlp.fit(X_train, y_train)\n",
    "\n",
    "end_time = time.time()\n",
    "mlp_time = end_time - start_time"
   ]
  },
  {
   "cell_type": "code",
   "execution_count": null,
   "metadata": {},
   "outputs": [
    {
     "name": "stdout",
     "output_type": "stream",
     "text": [
      "              precision    recall  f1-score   support\n",
      "\n",
      "           0       0.00      0.00      0.00       996\n",
      "           1       0.00      0.00      0.00      1721\n",
      "           2       0.49      1.00      0.65       942\n",
      "           3       0.52      1.00      0.68      1833\n",
      "\n",
      "    accuracy                           0.51      5492\n",
      "   macro avg       0.25      0.50      0.33      5492\n",
      "weighted avg       0.26      0.51      0.34      5492\n",
      "\n"
     ]
    },
    {
     "name": "stderr",
     "output_type": "stream",
     "text": [
      "c:\\Users\\mathi\\anaconda3\\envs\\Keras\\lib\\site-packages\\sklearn\\metrics\\_classification.py:1344: UndefinedMetricWarning: Precision and F-score are ill-defined and being set to 0.0 in labels with no predicted samples. Use `zero_division` parameter to control this behavior.\n",
      "  _warn_prf(average, modifier, msg_start, len(result))\n",
      "c:\\Users\\mathi\\anaconda3\\envs\\Keras\\lib\\site-packages\\sklearn\\metrics\\_classification.py:1344: UndefinedMetricWarning: Precision and F-score are ill-defined and being set to 0.0 in labels with no predicted samples. Use `zero_division` parameter to control this behavior.\n",
      "  _warn_prf(average, modifier, msg_start, len(result))\n",
      "c:\\Users\\mathi\\anaconda3\\envs\\Keras\\lib\\site-packages\\sklearn\\metrics\\_classification.py:1344: UndefinedMetricWarning: Precision and F-score are ill-defined and being set to 0.0 in labels with no predicted samples. Use `zero_division` parameter to control this behavior.\n",
      "  _warn_prf(average, modifier, msg_start, len(result))\n"
     ]
    }
   ],
   "source": [
    "y_pred_test = best_mlp.predict(X_test)\n",
    "y_pred_test_prob = best_mlp.predict_proba(X_test)\n",
    "print(classification_report(y_test, y_pred_test))"
   ]
  },
  {
   "cell_type": "code",
   "execution_count": null,
   "metadata": {},
   "outputs": [
    {
     "data": {
      "text/plain": [
       "0.5050983248361253"
      ]
     },
     "execution_count": 33,
     "metadata": {},
     "output_type": "execute_result"
    }
   ],
   "source": [
    "mlp_multi = accuracy_score(y_test, y_pred_test)\n",
    "mlp_multi"
   ]
  },
  {
   "cell_type": "markdown",
   "metadata": {},
   "source": [
    "# Comparaison modèles multiclass"
   ]
  },
  {
   "cell_type": "code",
   "execution_count": null,
   "metadata": {},
   "outputs": [
    {
     "data": {
      "image/png": "[encoded data removed]",
      "text/plain": [
       "<Figure size 1000x600 with 1 Axes>"
      ]
     },
     "metadata": {},
     "output_type": "display_data"
    }
   ],
   "source": [
    "import matplotlib.pyplot as plt\n",
    "import numpy as np\n",
    "\n",
    "# Scores d'accuracy des différents modèles\n",
    "accuracy_scores = [DescisionTree_score_multi, Xgboost_score_multi, catboost_score_multi, logisti_reg_score_multi, random_score_multi, mlp_multi] \n",
    "\n",
    "# Noms des modèles correspondants\n",
    "model_names = ['DecisionTree', 'Xgboost', 'Catboost', 'Reg logistique', 'Random forest', 'MLP'] \n",
    "\n",
    "# Création de l'histogramme\n",
    "plt.figure(figsize=(10, 6))\n",
    "plt.bar(model_names, accuracy_scores, color='blue', alpha=0.7)\n",
    "plt.xlabel('Modèles')\n",
    "plt.ylabel('Accuracy')\n",
    "plt.title('Comparaison des résultats d\\'accuracy des modèles de classification multiclass')\n",
    "plt.ylim(0, 1)  # Assurez-vous que l'axe y va de 0 à 1 pour l'accuracy\n",
    "plt.grid(axis='y', linestyle='--', alpha=0.7)\n",
    "\n",
    "# Affichage des scores sur chaque barre\n",
    "for i, v in enumerate(accuracy_scores):\n",
    "    plt.text(i, v + 0.01, f'{v:.4f}', ha='center', va='bottom')\n",
    "\n",
    "# Affichage de l'histogramme\n",
    "plt.show()"
   ]
  },
  {
   "cell_type": "code",
   "execution_count": null,
   "metadata": {},
   "outputs": [
    {
     "data": {
      "image/png": "[encoded data removed]",
      "text/plain": [
       "<Figure size 1000x600 with 1 Axes>"
      ]
     },
     "metadata": {},
     "output_type": "display_data"
    }
   ],
   "source": [
    "Temps = [DecisionTree_time, Xgboost_time, CatBoost_time, Logisti_reg_time, Random_time, mlp_time] \n",
    "\n",
    "# Noms des modèles correspondants\n",
    "model_names = ['DecisionTree_time', 'Xgboost_time', 'Catboost_time', 'Reg logistique_time', 'Random forest_time', 'MLP_time'] \n",
    "\n",
    "# Création de l'histogramme\n",
    "plt.figure(figsize=(10, 6))\n",
    "plt.bar(model_names, Temps, color='blue', alpha=0.7)\n",
    "plt.xlabel('Modèles')\n",
    "plt.ylabel('Temps en s')\n",
    "plt.title('Comparaison temporelle des modèles de classification binaire')\n",
    "plt.grid(axis='y', linestyle='--', alpha=0.7)\n",
    "\n",
    "for i, v in enumerate(Temps):\n",
    "    plt.text(i, v + 0.01, f'{v:.4f}', ha='center', va='bottom')\n",
    "\n",
    "# Affichage de l'histogramme\n",
    "plt.show()"
   ]
  }
 ],
 "metadata": {
  "kernelspec": {
   "display_name": "Keras",
   "language": "python",
   "name": "python3"
  },
  "language_info": {
   "codemirror_mode": {
    "name": "ipython",
    "version": 3
   },
   "file_extension": ".py",
   "mimetype": "text/x-python",
   "name": "python",
   "nbconvert_exporter": "python",
   "pygments_lexer": "ipython3",
   "version": "3.9.13"
  }
 },
 "nbformat": 4,
 "nbformat_minor": 2
}
