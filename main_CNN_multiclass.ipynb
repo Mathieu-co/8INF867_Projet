{
 "cells": [
  {
   "cell_type": "markdown",
   "metadata": {},
   "source": [
    "# CNN pour classification multiclass"
   ]
  },
  {
   "cell_type": "code",
   "execution_count": 38,
   "metadata": {},
   "outputs": [],
   "source": [
    "import pandas as pd\n",
    "from test import convertCatToNum, drop_rows_with_missing, normalize, encode_player_names, split_data\n",
    "import numpy as np\n",
    "import matplotlib.pyplot as plt\n",
    "\n",
    "# on import toutes les données\n",
    "\n",
    "df_atp_multi = pd.read_csv('all_matches_ATP_multi.csv')"
   ]
  },
  {
   "cell_type": "code",
   "execution_count": 39,
   "metadata": {},
   "outputs": [
    {
     "data": {
      "text/plain": [
       "Index(['ATP', 'Court', 'Surface', 'Round', 'Best of', 'WRank', 'LRank',\n",
       "       'Comment', 'PSW', 'PSL', 'B365W', 'B365L', 'Series', 'y_multicat'],\n",
       "      dtype='object')"
      ]
     },
     "execution_count": 39,
     "metadata": {},
     "output_type": "execute_result"
    }
   ],
   "source": [
    "df_atp_multi.columns"
   ]
  },
  {
   "cell_type": "code",
   "execution_count": 40,
   "metadata": {},
   "outputs": [],
   "source": [
    "cat_cols = ['Court','Surface','Round','Comment']\n",
    "num_cols = [\"PSW\",\"PSL\",\"Best of\",\"B365W\",\"B365L\",\"Series\",\"ATP\"]"
   ]
  },
  {
   "cell_type": "code",
   "execution_count": 41,
   "metadata": {},
   "outputs": [
    {
     "name": "stdout",
     "output_type": "stream",
     "text": [
      " ===     Replace categorial variable     ===\n",
      " ===   Convert categorical to numerical  ===\n",
      " ===         drop missing values         ===\n",
      " ===            Normalize data           ===\n"
     ]
    }
   ],
   "source": [
    "df_processed = convertCatToNum(df=df_atp_multi,cat_cols=cat_cols)\n",
    "df = drop_rows_with_missing(df_processed,columns=[\"y_multicat\",\"Series\"])\n",
    "df_final = normalize(df,num_cols)"
   ]
  },
  {
   "cell_type": "code",
   "execution_count": 42,
   "metadata": {},
   "outputs": [
    {
     "data": {
      "text/html": [
       "<div>\n",
       "<style scoped>\n",
       "    .dataframe tbody tr th:only-of-type {\n",
       "        vertical-align: middle;\n",
       "    }\n",
       "\n",
       "    .dataframe tbody tr th {\n",
       "        vertical-align: top;\n",
       "    }\n",
       "\n",
       "    .dataframe thead th {\n",
       "        text-align: right;\n",
       "    }\n",
       "</style>\n",
       "<table border=\"1\" class=\"dataframe\">\n",
       "  <thead>\n",
       "    <tr style=\"text-align: right;\">\n",
       "      <th></th>\n",
       "      <th>ATP</th>\n",
       "      <th>Best of</th>\n",
       "      <th>WRank</th>\n",
       "      <th>LRank</th>\n",
       "      <th>PSW</th>\n",
       "      <th>PSL</th>\n",
       "      <th>B365W</th>\n",
       "      <th>B365L</th>\n",
       "      <th>Series</th>\n",
       "      <th>y_multicat</th>\n",
       "      <th>...</th>\n",
       "      <th>Round_1st Round</th>\n",
       "      <th>Round_2nd Round</th>\n",
       "      <th>Round_3rd Round</th>\n",
       "      <th>Round_4th Round</th>\n",
       "      <th>Round_Quarterfinals</th>\n",
       "      <th>Round_Round Robin</th>\n",
       "      <th>Round_Semifinals</th>\n",
       "      <th>Round_The Final</th>\n",
       "      <th>Comment_Completed</th>\n",
       "      <th>Comment_Retired</th>\n",
       "    </tr>\n",
       "  </thead>\n",
       "  <tbody>\n",
       "    <tr>\n",
       "      <th>55</th>\n",
       "      <td>0.074627</td>\n",
       "      <td>1.0</td>\n",
       "      <td>11</td>\n",
       "      <td>195</td>\n",
       "      <td>0.000914</td>\n",
       "      <td>0.174931</td>\n",
       "      <td>0.001364</td>\n",
       "      <td>0.089909</td>\n",
       "      <td>1.0</td>\n",
       "      <td>1</td>\n",
       "      <td>...</td>\n",
       "      <td>1</td>\n",
       "      <td>0</td>\n",
       "      <td>0</td>\n",
       "      <td>0</td>\n",
       "      <td>0</td>\n",
       "      <td>0</td>\n",
       "      <td>0</td>\n",
       "      <td>0</td>\n",
       "      <td>0</td>\n",
       "      <td>1</td>\n",
       "    </tr>\n",
       "    <tr>\n",
       "      <th>787</th>\n",
       "      <td>0.731343</td>\n",
       "      <td>1.0</td>\n",
       "      <td>7</td>\n",
       "      <td>37</td>\n",
       "      <td>0.004971</td>\n",
       "      <td>0.036586</td>\n",
       "      <td>0.006500</td>\n",
       "      <td>0.039904</td>\n",
       "      <td>1.0</td>\n",
       "      <td>0</td>\n",
       "      <td>...</td>\n",
       "      <td>0</td>\n",
       "      <td>1</td>\n",
       "      <td>0</td>\n",
       "      <td>0</td>\n",
       "      <td>0</td>\n",
       "      <td>0</td>\n",
       "      <td>0</td>\n",
       "      <td>0</td>\n",
       "      <td>0</td>\n",
       "      <td>1</td>\n",
       "    </tr>\n",
       "  </tbody>\n",
       "</table>\n",
       "<p>2 rows × 26 columns</p>\n",
       "</div>"
      ],
      "text/plain": [
       "          ATP  Best of  WRank  LRank       PSW       PSL     B365W     B365L  \\\n",
       "55   0.074627      1.0     11    195  0.000914  0.174931  0.001364  0.089909   \n",
       "787  0.731343      1.0      7     37  0.004971  0.036586  0.006500  0.039904   \n",
       "\n",
       "     Series  y_multicat  ...  Round_1st Round  Round_2nd Round  \\\n",
       "55      1.0           1  ...                1                0   \n",
       "787     1.0           0  ...                0                1   \n",
       "\n",
       "     Round_3rd Round  Round_4th Round  Round_Quarterfinals  Round_Round Robin  \\\n",
       "55                 0                0                    0                  0   \n",
       "787                0                0                    0                  0   \n",
       "\n",
       "     Round_Semifinals  Round_The Final  Comment_Completed  Comment_Retired  \n",
       "55                  0                0                  0                1  \n",
       "787                 0                0                  0                1  \n",
       "\n",
       "[2 rows x 26 columns]"
      ]
     },
     "execution_count": 42,
     "metadata": {},
     "output_type": "execute_result"
    }
   ],
   "source": [
    "df_final.head(2)"
   ]
  },
  {
   "cell_type": "code",
   "execution_count": 43,
   "metadata": {},
   "outputs": [
    {
     "data": {
      "text/plain": [
       "3    8978\n",
       "1    8582\n",
       "2    5082\n",
       "0    4814\n",
       "Name: y_multicat, dtype: int64"
      ]
     },
     "execution_count": 43,
     "metadata": {},
     "output_type": "execute_result"
    }
   ],
   "source": [
    "df_final['y_multicat'].value_counts()"
   ]
  },
  {
   "cell_type": "code",
   "execution_count": 44,
   "metadata": {},
   "outputs": [
    {
     "name": "stdout",
     "output_type": "stream",
     "text": [
      "=== Splitting data into train and test sets ===\n",
      "Data split completed.\n"
     ]
    }
   ],
   "source": [
    "X_train, X_test, y_train, y_test = split_data(df_final,target_column='y_multicat', test_size=0.2, random_state=42)"
   ]
  },
  {
   "cell_type": "code",
   "execution_count": 45,
   "metadata": {},
   "outputs": [],
   "source": [
    "X_test = X_test.values.reshape((X_test.shape[0], 25, 1))\n",
    "X_train = X_train.values.reshape((X_train.shape[0], 25, 1))"
   ]
  },
  {
   "cell_type": "code",
   "execution_count": 46,
   "metadata": {},
   "outputs": [
    {
     "name": "stdout",
     "output_type": "stream",
     "text": [
      "X_train : (21964, 25, 1)\n",
      "y_train : (21964,)\n",
      "X_test : (5492, 25, 1)\n",
      "y_test : (5492,)\n"
     ]
    }
   ],
   "source": [
    "print('X_train :',X_train.shape)\n",
    "print('y_train :',y_train.shape)\n",
    "print('X_test :',X_test.shape)\n",
    "print('y_test :',y_test.shape)"
   ]
  },
  {
   "cell_type": "code",
   "execution_count": 47,
   "metadata": {},
   "outputs": [
    {
     "name": "stdout",
     "output_type": "stream",
     "text": [
      "X_valid : (2746, 25, 1)\n",
      "y_valid : (2746,)\n"
     ]
    }
   ],
   "source": [
    "# On crée notre jeux de validation\n",
    "nbr_test_valid = int(len(X_test)/2)\n",
    "\n",
    "X_valid = X_test[:nbr_test_valid]\n",
    "X_test = X_test[nbr_test_valid:]\n",
    "\n",
    "y_valid = y_test[:nbr_test_valid]\n",
    "y_test = y_test[nbr_test_valid:]\n",
    "\n",
    "print('X_valid :',X_valid.shape)\n",
    "print('y_valid :',y_valid.shape)"
   ]
  },
  {
   "cell_type": "markdown",
   "metadata": {},
   "source": [
    "# CNN multiclass"
   ]
  },
  {
   "cell_type": "code",
   "execution_count": 48,
   "metadata": {},
   "outputs": [],
   "source": [
    "from tensorflow.keras.models import Sequential\n",
    "from keras.layers import Conv1D, MaxPooling1D, Flatten, Dense\n",
    "from tensorflow.keras.wrappers.scikit_learn import KerasClassifier\n",
    "from tensorflow.keras import layers, models\n",
    "import tensorflow as tf\n",
    "import time"
   ]
  },
  {
   "cell_type": "code",
   "execution_count": 49,
   "metadata": {},
   "outputs": [
    {
     "name": "stdout",
     "output_type": "stream",
     "text": [
      "WARNING:tensorflow:There are non-GPU devices in `tf.distribute.Strategy`, not using nccl allreduce.\n",
      "INFO:tensorflow:Using MirroredStrategy with devices ('/job:localhost/replica:0/task:0/device:CPU:0',)\n"
     ]
    }
   ],
   "source": [
    "strategy = tf.distribute.MirroredStrategy()\n",
    "\n",
    "with strategy.scope():\n",
    "\n",
    "    model_cnn_multi = models.Sequential([\n",
    "        layers.Conv1D(128, kernel_size=3, activation='relu', padding='same', kernel_initializer='he_uniform', input_shape=(25, 1)),\n",
    "        layers.BatchNormalization(),\n",
    "        layers.Conv1D(128, kernel_size=3, activation='relu', padding='same', kernel_initializer='he_uniform', input_shape=(25, 1)),\n",
    "        layers.BatchNormalization(),\n",
    "        layers.MaxPooling1D(pool_size=2),\n",
    "        layers.Dropout(0.25),\n",
    "\n",
    "        layers.Flatten(),\n",
    "        layers.Dense(128, activation='relu'),\n",
    "        layers.BatchNormalization(),\n",
    "        layers.Dropout(0.25),\n",
    "        layers.Dense(4, activation='softmax')\n",
    "    ])\n",
    "\n",
    "    model_cnn_multi.compile(optimizer='adam',\n",
    "                      loss='sparse_categorical_crossentropy',\n",
    "                      metrics=['accuracy'])"
   ]
  },
  {
   "cell_type": "code",
   "execution_count": 50,
   "metadata": {},
   "outputs": [
    {
     "name": "stdout",
     "output_type": "stream",
     "text": [
      "Model: \"sequential_1\"\n",
      "_________________________________________________________________\n",
      " Layer (type)                Output Shape              Param #   \n",
      "=================================================================\n",
      " conv1d_2 (Conv1D)           (None, 25, 128)           512       \n",
      "                                                                 \n",
      " batch_normalization_3 (Batc  (None, 25, 128)          512       \n",
      " hNormalization)                                                 \n",
      "                                                                 \n",
      " conv1d_3 (Conv1D)           (None, 25, 128)           49280     \n",
      "                                                                 \n",
      " batch_normalization_4 (Batc  (None, 25, 128)          512       \n",
      " hNormalization)                                                 \n",
      "                                                                 \n",
      " max_pooling1d_1 (MaxPooling  (None, 12, 128)          0         \n",
      " 1D)                                                             \n",
      "                                                                 \n",
      " dropout_2 (Dropout)         (None, 12, 128)           0         \n",
      "                                                                 \n",
      " flatten_1 (Flatten)         (None, 1536)              0         \n",
      "                                                                 \n",
      " dense_2 (Dense)             (None, 128)               196736    \n",
      "                                                                 \n",
      " batch_normalization_5 (Batc  (None, 128)              512       \n",
      " hNormalization)                                                 \n",
      "                                                                 \n",
      " dropout_3 (Dropout)         (None, 128)               0         \n",
      "                                                                 \n",
      " dense_3 (Dense)             (None, 4)                 516       \n",
      "                                                                 \n",
      "=================================================================\n",
      "Total params: 248,580\n",
      "Trainable params: 247,812\n",
      "Non-trainable params: 768\n",
      "_________________________________________________________________\n"
     ]
    }
   ],
   "source": [
    "model_cnn_multi.summary()"
   ]
  },
  {
   "cell_type": "code",
   "execution_count": 51,
   "metadata": {},
   "outputs": [
    {
     "name": "stdout",
     "output_type": "stream",
     "text": [
      "Epoch 1/20\n",
      "687/687 [==============================] - 50s 47ms/step - loss: 1.4730 - accuracy: 0.3061 - val_loss: 1.3539 - val_accuracy: 0.3376\n",
      "Epoch 2/20\n",
      "687/687 [==============================] - 31s 45ms/step - loss: 1.3843 - accuracy: 0.3145 - val_loss: 1.3483 - val_accuracy: 0.3201\n",
      "Epoch 3/20\n",
      "687/687 [==============================] - 38s 55ms/step - loss: 1.3640 - accuracy: 0.3200 - val_loss: 1.3445 - val_accuracy: 0.3303\n",
      "Epoch 4/20\n",
      "687/687 [==============================] - 47s 69ms/step - loss: 1.3542 - accuracy: 0.3195 - val_loss: 1.3512 - val_accuracy: 0.3296\n",
      "Epoch 5/20\n",
      "687/687 [==============================] - 35s 51ms/step - loss: 1.3517 - accuracy: 0.3229 - val_loss: 1.3447 - val_accuracy: 0.3267\n",
      "Epoch 6/20\n",
      "687/687 [==============================] - 35s 52ms/step - loss: 1.3496 - accuracy: 0.3238 - val_loss: 1.3426 - val_accuracy: 0.3172\n",
      "Epoch 7/20\n",
      "687/687 [==============================] - 36s 53ms/step - loss: 1.3506 - accuracy: 0.3243 - val_loss: 1.3490 - val_accuracy: 0.3161\n",
      "Epoch 8/20\n",
      "687/687 [==============================] - 34s 50ms/step - loss: 1.3467 - accuracy: 0.3221 - val_loss: 1.3504 - val_accuracy: 0.3216\n",
      "Epoch 9/20\n",
      "687/687 [==============================] - 31s 44ms/step - loss: 1.3492 - accuracy: 0.3224 - val_loss: 1.3453 - val_accuracy: 0.3183\n",
      "Epoch 10/20\n",
      "687/687 [==============================] - 29s 42ms/step - loss: 1.3465 - accuracy: 0.3244 - val_loss: 1.3467 - val_accuracy: 0.3288\n",
      "Epoch 11/20\n",
      "687/687 [==============================] - 31s 45ms/step - loss: 1.3450 - accuracy: 0.3272 - val_loss: 1.3510 - val_accuracy: 0.3205\n",
      "Epoch 12/20\n",
      "687/687 [==============================] - 27s 39ms/step - loss: 1.3453 - accuracy: 0.3204 - val_loss: 1.6710 - val_accuracy: 0.1948\n",
      "Epoch 13/20\n",
      "687/687 [==============================] - 25s 37ms/step - loss: 1.3440 - accuracy: 0.3231 - val_loss: 1.3431 - val_accuracy: 0.3274\n",
      "Epoch 14/20\n",
      "687/687 [==============================] - 25s 37ms/step - loss: 1.3426 - accuracy: 0.3231 - val_loss: 1.3445 - val_accuracy: 0.3183\n",
      "Epoch 15/20\n",
      "687/687 [==============================] - 23s 33ms/step - loss: 1.3417 - accuracy: 0.3223 - val_loss: 1.3464 - val_accuracy: 0.3216\n",
      "Epoch 16/20\n",
      "687/687 [==============================] - 19s 27ms/step - loss: 1.3406 - accuracy: 0.3299 - val_loss: 1.3403 - val_accuracy: 0.3245\n",
      "Epoch 17/20\n",
      "687/687 [==============================] - 14s 21ms/step - loss: 1.3413 - accuracy: 0.3231 - val_loss: 1.3582 - val_accuracy: 0.3125\n",
      "Epoch 18/20\n",
      "687/687 [==============================] - 16s 23ms/step - loss: 1.3411 - accuracy: 0.3238 - val_loss: 1.3418 - val_accuracy: 0.3143\n",
      "Epoch 19/20\n",
      "687/687 [==============================] - 17s 24ms/step - loss: 1.3394 - accuracy: 0.3248 - val_loss: 1.3399 - val_accuracy: 0.3223\n",
      "Epoch 20/20\n",
      "687/687 [==============================] - 20s 30ms/step - loss: 1.3400 - accuracy: 0.3264 - val_loss: 1.4003 - val_accuracy: 0.3168\n",
      "Temps du modèle: 584.314386844635 s\n"
     ]
    }
   ],
   "source": [
    "start_time = time.time()\n",
    "history = model_cnn_multi.fit(X_train, y_train, epochs=20, validation_data=(X_valid, y_valid), batch_size=32)\n",
    "end_time = time.time()\n",
    "cnn_time = end_time - start_time\n",
    "print(f\"Temps du modèle: {cnn_time} s\")"
   ]
  },
  {
   "cell_type": "code",
   "execution_count": 52,
   "metadata": {},
   "outputs": [
    {
     "data": {
      "image/png": "[encoded data removed]",
      "text/plain": [
       "<Figure size 576x360 with 1 Axes>"
      ]
     },
     "metadata": {
      "needs_background": "light"
     },
     "output_type": "display_data"
    }
   ],
   "source": [
    "pd.DataFrame(history.history).plot(figsize=(8, 5))\n",
    "plt.grid(True)\n",
    "plt.gca().set_ylim(0, 1)\n",
    "plt.xlabel('Epoch')\n",
    "plt.ylabel('Accuracy & loss')\n",
    "plt.show()"
   ]
  },
  {
   "cell_type": "code",
   "execution_count": 53,
   "metadata": {},
   "outputs": [
    {
     "name": "stdout",
     "output_type": "stream",
     "text": [
      "86/86 [==============================] - 2s 20ms/step - loss: 1.3395 - accuracy: 0.3190\n",
      "Loss on test set: 1.3395451307296753\n",
      "Accuracy on test set: 0.3190094828605652\n"
     ]
    }
   ],
   "source": [
    "# Évaluer la performance sur l'ensemble de test\n",
    "loss, accuracy = model_cnn_multi.evaluate(X_test, y_test)\n",
    "\n",
    "# Affichez les résultats\n",
    "print(f\"Loss on test set: {loss}\")\n",
    "print(f\"Accuracy on test set: {accuracy}\")"
   ]
  }
 ],
 "metadata": {
  "kernelspec": {
   "display_name": "Keras",
   "language": "python",
   "name": "python3"
  },
  "language_info": {
   "codemirror_mode": {
    "name": "ipython",
    "version": 3
   },
   "file_extension": ".py",
   "mimetype": "text/x-python",
   "name": "python",
   "nbconvert_exporter": "python",
   "pygments_lexer": "ipython3",
   "version": "3.9.13"
  }
 },
 "nbformat": 4,
 "nbformat_minor": 2
}
